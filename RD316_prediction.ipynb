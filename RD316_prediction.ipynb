{
  "nbformat": 4,
  "nbformat_minor": 0,
  "metadata": {
    "accelerator": "GPU",
    "colab": {
      "provenance": [],
      "include_colab_link": true
    },
    "kernelspec": {
      "display_name": "Python 3",
      "name": "python3"
    }
  },
  "cells": [
    {
      "cell_type": "markdown",
      "metadata": {
        "id": "view-in-github",
        "colab_type": "text"
      },
      "source": [
        "<a href=\"https://colab.research.google.com/github/GermanOmar/LPBF/blob/master/RD316_prediction.ipynb\" target=\"_parent\"><img src=\"https://colab.research.google.com/assets/colab-badge.svg\" alt=\"Open In Colab\"/></a>"
      ]
    },
    {
      "cell_type": "markdown",
      "metadata": {
        "id": "rqI9VDT0RdWk"
      },
      "source": [
        "# Predicting the relative density of stainless steel and aluminum alloys manufactured by L-PBF using machine learning"
      ]
    },
    {
      "cell_type": "markdown",
      "metadata": {
        "id": "2OOvQQeg7d0g"
      },
      "source": [
        "<a href=\"https://ibb.co/3vvDZtg\"><img src=\"https://i.ibb.co/Nrr8Bwc/Tests2-TIFF.png\" WIDTH=\"620\" HEIGHT=\"360\"  border=\"0\"></a>"
      ]
    },
    {
      "cell_type": "markdown",
      "metadata": {
        "id": "3-T6Z2bdRvSm"
      },
      "source": [
        " Libraries"
      ]
    },
    {
      "cell_type": "code",
      "metadata": {
        "id": "ltCb1Iw6Raez"
      },
      "source": [
        "import numpy as np\n",
        "import pandas as pd\n",
        "from matplotlib import pyplot as plt\n",
        "from sklearn import preprocessing\n",
        "import warnings\n",
        "warnings.filterwarnings(\"ignore\")"
      ],
      "execution_count": 1,
      "outputs": []
    },
    {
      "cell_type": "code",
      "metadata": {
        "colab": {
          "base_uri": "https://localhost:8080/"
        },
        "id": "SLSSHb-SwB0n",
        "outputId": "ed5b11d0-7ecb-49b2-a537-238cc4485703"
      },
      "source": [
        "!pip install lazypredict\n",
        "warnings.filterwarnings(\"ignore\")"
      ],
      "execution_count": 2,
      "outputs": [
        {
          "output_type": "stream",
          "name": "stdout",
          "text": [
            "Collecting lazypredict\n",
            "  Downloading lazypredict-0.2.13-py2.py3-none-any.whl.metadata (12 kB)\n",
            "Requirement already satisfied: click in /usr/local/lib/python3.10/dist-packages (from lazypredict) (8.1.7)\n",
            "Requirement already satisfied: scikit-learn in /usr/local/lib/python3.10/dist-packages (from lazypredict) (1.5.2)\n",
            "Requirement already satisfied: pandas in /usr/local/lib/python3.10/dist-packages (from lazypredict) (2.2.2)\n",
            "Requirement already satisfied: tqdm in /usr/local/lib/python3.10/dist-packages (from lazypredict) (4.66.6)\n",
            "Requirement already satisfied: joblib in /usr/local/lib/python3.10/dist-packages (from lazypredict) (1.4.2)\n",
            "Requirement already satisfied: lightgbm in /usr/local/lib/python3.10/dist-packages (from lazypredict) (4.5.0)\n",
            "Requirement already satisfied: xgboost in /usr/local/lib/python3.10/dist-packages (from lazypredict) (2.1.2)\n",
            "Requirement already satisfied: numpy>=1.17.0 in /usr/local/lib/python3.10/dist-packages (from lightgbm->lazypredict) (1.26.4)\n",
            "Requirement already satisfied: scipy in /usr/local/lib/python3.10/dist-packages (from lightgbm->lazypredict) (1.13.1)\n",
            "Requirement already satisfied: python-dateutil>=2.8.2 in /usr/local/lib/python3.10/dist-packages (from pandas->lazypredict) (2.8.2)\n",
            "Requirement already satisfied: pytz>=2020.1 in /usr/local/lib/python3.10/dist-packages (from pandas->lazypredict) (2024.2)\n",
            "Requirement already satisfied: tzdata>=2022.7 in /usr/local/lib/python3.10/dist-packages (from pandas->lazypredict) (2024.2)\n",
            "Requirement already satisfied: threadpoolctl>=3.1.0 in /usr/local/lib/python3.10/dist-packages (from scikit-learn->lazypredict) (3.5.0)\n",
            "Requirement already satisfied: nvidia-nccl-cu12 in /usr/local/lib/python3.10/dist-packages (from xgboost->lazypredict) (2.23.4)\n",
            "Requirement already satisfied: six>=1.5 in /usr/local/lib/python3.10/dist-packages (from python-dateutil>=2.8.2->pandas->lazypredict) (1.16.0)\n",
            "Downloading lazypredict-0.2.13-py2.py3-none-any.whl (12 kB)\n",
            "Installing collected packages: lazypredict\n",
            "Successfully installed lazypredict-0.2.13\n"
          ]
        }
      ]
    },
    {
      "cell_type": "markdown",
      "metadata": {
        "id": "SM_-phITCP5Q"
      },
      "source": [
        "Randomized search"
      ]
    },
    {
      "cell_type": "code",
      "metadata": {
        "id": "JXtz8RPXCOUJ"
      },
      "source": [
        "from sklearn.model_selection import RandomizedSearchCV\n",
        "from sklearn.model_selection import RepeatedKFold\n",
        "from sklearn.preprocessing import StandardScaler"
      ],
      "execution_count": 3,
      "outputs": []
    },
    {
      "cell_type": "markdown",
      "metadata": {
        "id": "1Mbfb5c9yu5p"
      },
      "source": [
        " Upload database:"
      ]
    },
    {
      "cell_type": "code",
      "metadata": {
        "colab": {
          "base_uri": "https://localhost:8080/"
        },
        "id": "_V3jfdhPsEKW",
        "outputId": "ec845f93-7b21-40e4-ffcf-bd3155094a43"
      },
      "source": [
        "!git clone https://github.com/GermanOmar/LPBF"
      ],
      "execution_count": 7,
      "outputs": [
        {
          "output_type": "stream",
          "name": "stdout",
          "text": [
            "Cloning into 'LPBF'...\n",
            "remote: Enumerating objects: 15, done.\u001b[K\n",
            "remote: Counting objects: 100% (15/15), done.\u001b[K\n",
            "remote: Compressing objects: 100% (13/13), done.\u001b[K\n",
            "remote: Total 15 (delta 4), reused 0 (delta 0), pack-reused 0 (from 0)\u001b[K\n",
            "Receiving objects: 100% (15/15), 23.14 KiB | 4.63 MiB/s, done.\n",
            "Resolving deltas: 100% (4/4), done.\n"
          ]
        }
      ]
    },
    {
      "cell_type": "code",
      "metadata": {
        "colab": {
          "base_uri": "https://localhost:8080/",
          "height": 300
        },
        "id": "Yx-ovik8xxJx",
        "outputId": "595ddcce-2557-4a3f-8f49-75ec51aeb197"
      },
      "source": [
        "#Experimental data\n",
        "data = pd.read_table('/content/LPBF/DataSS.txt')\n",
        "data.describe()\n"
      ],
      "execution_count": 8,
      "outputs": [
        {
          "output_type": "execute_result",
          "data": {
            "text/plain": [
              "            Power       Speed       Hatch    Thickness        Spot  \\\n",
              "count  332.000000   332.000000  332.000000  332.000000  332.000000   \n",
              "mean   163.572289   828.630301    0.085015    0.043042    0.075934   \n",
              "std     56.139085   528.600764    0.026151    0.061488    0.031883   \n",
              "min     30.000000    18.760000    0.018000    0.020000    0.035000   \n",
              "25%    125.000000   498.500000    0.070000    0.030000    0.050000   \n",
              "50%    150.000000   800.000000    0.080000    0.030000    0.070000   \n",
              "75%    200.000000  1000.000000    0.110000    0.040000    0.080000   \n",
              "max    350.000000  3400.000000    0.160000    0.460000    0.200000   \n",
              "\n",
              "            Energy        PSD   Atmosphere    Geometry    Strategy          RD  \n",
              "count   332.000000  332.000000  332.000000  332.000000  332.000000  332.000000  \n",
              "mean    109.271145   30.365181    3.786145    1.921687    4.575301   96.329006  \n",
              "std     110.717403    6.777628    2.917711    1.025305    2.119623    3.752453  \n",
              "min      21.370000   14.630000    1.000000    1.000000    1.000000   85.100000  \n",
              "25%      59.390000   26.000000    1.000000    1.000000    3.000000   94.985000  \n",
              "50%      83.330000   30.000000    2.000000    1.500000    4.000000   97.740000  \n",
              "75%     122.397500   35.500000    7.000000    3.000000    7.000000   99.082500  \n",
              "max    1295.610000   46.000000    7.000000    4.000000    7.000000   99.990000  "
            ],
            "text/html": [
              "\n",
              "  <div id=\"df-d65df26d-9232-4457-bb22-cd043e55862c\" class=\"colab-df-container\">\n",
              "    <div>\n",
              "<style scoped>\n",
              "    .dataframe tbody tr th:only-of-type {\n",
              "        vertical-align: middle;\n",
              "    }\n",
              "\n",
              "    .dataframe tbody tr th {\n",
              "        vertical-align: top;\n",
              "    }\n",
              "\n",
              "    .dataframe thead th {\n",
              "        text-align: right;\n",
              "    }\n",
              "</style>\n",
              "<table border=\"1\" class=\"dataframe\">\n",
              "  <thead>\n",
              "    <tr style=\"text-align: right;\">\n",
              "      <th></th>\n",
              "      <th>Power</th>\n",
              "      <th>Speed</th>\n",
              "      <th>Hatch</th>\n",
              "      <th>Thickness</th>\n",
              "      <th>Spot</th>\n",
              "      <th>Energy</th>\n",
              "      <th>PSD</th>\n",
              "      <th>Atmosphere</th>\n",
              "      <th>Geometry</th>\n",
              "      <th>Strategy</th>\n",
              "      <th>RD</th>\n",
              "    </tr>\n",
              "  </thead>\n",
              "  <tbody>\n",
              "    <tr>\n",
              "      <th>count</th>\n",
              "      <td>332.000000</td>\n",
              "      <td>332.000000</td>\n",
              "      <td>332.000000</td>\n",
              "      <td>332.000000</td>\n",
              "      <td>332.000000</td>\n",
              "      <td>332.000000</td>\n",
              "      <td>332.000000</td>\n",
              "      <td>332.000000</td>\n",
              "      <td>332.000000</td>\n",
              "      <td>332.000000</td>\n",
              "      <td>332.000000</td>\n",
              "    </tr>\n",
              "    <tr>\n",
              "      <th>mean</th>\n",
              "      <td>163.572289</td>\n",
              "      <td>828.630301</td>\n",
              "      <td>0.085015</td>\n",
              "      <td>0.043042</td>\n",
              "      <td>0.075934</td>\n",
              "      <td>109.271145</td>\n",
              "      <td>30.365181</td>\n",
              "      <td>3.786145</td>\n",
              "      <td>1.921687</td>\n",
              "      <td>4.575301</td>\n",
              "      <td>96.329006</td>\n",
              "    </tr>\n",
              "    <tr>\n",
              "      <th>std</th>\n",
              "      <td>56.139085</td>\n",
              "      <td>528.600764</td>\n",
              "      <td>0.026151</td>\n",
              "      <td>0.061488</td>\n",
              "      <td>0.031883</td>\n",
              "      <td>110.717403</td>\n",
              "      <td>6.777628</td>\n",
              "      <td>2.917711</td>\n",
              "      <td>1.025305</td>\n",
              "      <td>2.119623</td>\n",
              "      <td>3.752453</td>\n",
              "    </tr>\n",
              "    <tr>\n",
              "      <th>min</th>\n",
              "      <td>30.000000</td>\n",
              "      <td>18.760000</td>\n",
              "      <td>0.018000</td>\n",
              "      <td>0.020000</td>\n",
              "      <td>0.035000</td>\n",
              "      <td>21.370000</td>\n",
              "      <td>14.630000</td>\n",
              "      <td>1.000000</td>\n",
              "      <td>1.000000</td>\n",
              "      <td>1.000000</td>\n",
              "      <td>85.100000</td>\n",
              "    </tr>\n",
              "    <tr>\n",
              "      <th>25%</th>\n",
              "      <td>125.000000</td>\n",
              "      <td>498.500000</td>\n",
              "      <td>0.070000</td>\n",
              "      <td>0.030000</td>\n",
              "      <td>0.050000</td>\n",
              "      <td>59.390000</td>\n",
              "      <td>26.000000</td>\n",
              "      <td>1.000000</td>\n",
              "      <td>1.000000</td>\n",
              "      <td>3.000000</td>\n",
              "      <td>94.985000</td>\n",
              "    </tr>\n",
              "    <tr>\n",
              "      <th>50%</th>\n",
              "      <td>150.000000</td>\n",
              "      <td>800.000000</td>\n",
              "      <td>0.080000</td>\n",
              "      <td>0.030000</td>\n",
              "      <td>0.070000</td>\n",
              "      <td>83.330000</td>\n",
              "      <td>30.000000</td>\n",
              "      <td>2.000000</td>\n",
              "      <td>1.500000</td>\n",
              "      <td>4.000000</td>\n",
              "      <td>97.740000</td>\n",
              "    </tr>\n",
              "    <tr>\n",
              "      <th>75%</th>\n",
              "      <td>200.000000</td>\n",
              "      <td>1000.000000</td>\n",
              "      <td>0.110000</td>\n",
              "      <td>0.040000</td>\n",
              "      <td>0.080000</td>\n",
              "      <td>122.397500</td>\n",
              "      <td>35.500000</td>\n",
              "      <td>7.000000</td>\n",
              "      <td>3.000000</td>\n",
              "      <td>7.000000</td>\n",
              "      <td>99.082500</td>\n",
              "    </tr>\n",
              "    <tr>\n",
              "      <th>max</th>\n",
              "      <td>350.000000</td>\n",
              "      <td>3400.000000</td>\n",
              "      <td>0.160000</td>\n",
              "      <td>0.460000</td>\n",
              "      <td>0.200000</td>\n",
              "      <td>1295.610000</td>\n",
              "      <td>46.000000</td>\n",
              "      <td>7.000000</td>\n",
              "      <td>4.000000</td>\n",
              "      <td>7.000000</td>\n",
              "      <td>99.990000</td>\n",
              "    </tr>\n",
              "  </tbody>\n",
              "</table>\n",
              "</div>\n",
              "    <div class=\"colab-df-buttons\">\n",
              "\n",
              "  <div class=\"colab-df-container\">\n",
              "    <button class=\"colab-df-convert\" onclick=\"convertToInteractive('df-d65df26d-9232-4457-bb22-cd043e55862c')\"\n",
              "            title=\"Convert this dataframe to an interactive table.\"\n",
              "            style=\"display:none;\">\n",
              "\n",
              "  <svg xmlns=\"http://www.w3.org/2000/svg\" height=\"24px\" viewBox=\"0 -960 960 960\">\n",
              "    <path d=\"M120-120v-720h720v720H120Zm60-500h600v-160H180v160Zm220 220h160v-160H400v160Zm0 220h160v-160H400v160ZM180-400h160v-160H180v160Zm440 0h160v-160H620v160ZM180-180h160v-160H180v160Zm440 0h160v-160H620v160Z\"/>\n",
              "  </svg>\n",
              "    </button>\n",
              "\n",
              "  <style>\n",
              "    .colab-df-container {\n",
              "      display:flex;\n",
              "      gap: 12px;\n",
              "    }\n",
              "\n",
              "    .colab-df-convert {\n",
              "      background-color: #E8F0FE;\n",
              "      border: none;\n",
              "      border-radius: 50%;\n",
              "      cursor: pointer;\n",
              "      display: none;\n",
              "      fill: #1967D2;\n",
              "      height: 32px;\n",
              "      padding: 0 0 0 0;\n",
              "      width: 32px;\n",
              "    }\n",
              "\n",
              "    .colab-df-convert:hover {\n",
              "      background-color: #E2EBFA;\n",
              "      box-shadow: 0px 1px 2px rgba(60, 64, 67, 0.3), 0px 1px 3px 1px rgba(60, 64, 67, 0.15);\n",
              "      fill: #174EA6;\n",
              "    }\n",
              "\n",
              "    .colab-df-buttons div {\n",
              "      margin-bottom: 4px;\n",
              "    }\n",
              "\n",
              "    [theme=dark] .colab-df-convert {\n",
              "      background-color: #3B4455;\n",
              "      fill: #D2E3FC;\n",
              "    }\n",
              "\n",
              "    [theme=dark] .colab-df-convert:hover {\n",
              "      background-color: #434B5C;\n",
              "      box-shadow: 0px 1px 3px 1px rgba(0, 0, 0, 0.15);\n",
              "      filter: drop-shadow(0px 1px 2px rgba(0, 0, 0, 0.3));\n",
              "      fill: #FFFFFF;\n",
              "    }\n",
              "  </style>\n",
              "\n",
              "    <script>\n",
              "      const buttonEl =\n",
              "        document.querySelector('#df-d65df26d-9232-4457-bb22-cd043e55862c button.colab-df-convert');\n",
              "      buttonEl.style.display =\n",
              "        google.colab.kernel.accessAllowed ? 'block' : 'none';\n",
              "\n",
              "      async function convertToInteractive(key) {\n",
              "        const element = document.querySelector('#df-d65df26d-9232-4457-bb22-cd043e55862c');\n",
              "        const dataTable =\n",
              "          await google.colab.kernel.invokeFunction('convertToInteractive',\n",
              "                                                    [key], {});\n",
              "        if (!dataTable) return;\n",
              "\n",
              "        const docLinkHtml = 'Like what you see? Visit the ' +\n",
              "          '<a target=\"_blank\" href=https://colab.research.google.com/notebooks/data_table.ipynb>data table notebook</a>'\n",
              "          + ' to learn more about interactive tables.';\n",
              "        element.innerHTML = '';\n",
              "        dataTable['output_type'] = 'display_data';\n",
              "        await google.colab.output.renderOutput(dataTable, element);\n",
              "        const docLink = document.createElement('div');\n",
              "        docLink.innerHTML = docLinkHtml;\n",
              "        element.appendChild(docLink);\n",
              "      }\n",
              "    </script>\n",
              "  </div>\n",
              "\n",
              "\n",
              "<div id=\"df-b9e1365e-ffda-4c9e-ae1a-c7ee7dc81587\">\n",
              "  <button class=\"colab-df-quickchart\" onclick=\"quickchart('df-b9e1365e-ffda-4c9e-ae1a-c7ee7dc81587')\"\n",
              "            title=\"Suggest charts\"\n",
              "            style=\"display:none;\">\n",
              "\n",
              "<svg xmlns=\"http://www.w3.org/2000/svg\" height=\"24px\"viewBox=\"0 0 24 24\"\n",
              "     width=\"24px\">\n",
              "    <g>\n",
              "        <path d=\"M19 3H5c-1.1 0-2 .9-2 2v14c0 1.1.9 2 2 2h14c1.1 0 2-.9 2-2V5c0-1.1-.9-2-2-2zM9 17H7v-7h2v7zm4 0h-2V7h2v10zm4 0h-2v-4h2v4z\"/>\n",
              "    </g>\n",
              "</svg>\n",
              "  </button>\n",
              "\n",
              "<style>\n",
              "  .colab-df-quickchart {\n",
              "      --bg-color: #E8F0FE;\n",
              "      --fill-color: #1967D2;\n",
              "      --hover-bg-color: #E2EBFA;\n",
              "      --hover-fill-color: #174EA6;\n",
              "      --disabled-fill-color: #AAA;\n",
              "      --disabled-bg-color: #DDD;\n",
              "  }\n",
              "\n",
              "  [theme=dark] .colab-df-quickchart {\n",
              "      --bg-color: #3B4455;\n",
              "      --fill-color: #D2E3FC;\n",
              "      --hover-bg-color: #434B5C;\n",
              "      --hover-fill-color: #FFFFFF;\n",
              "      --disabled-bg-color: #3B4455;\n",
              "      --disabled-fill-color: #666;\n",
              "  }\n",
              "\n",
              "  .colab-df-quickchart {\n",
              "    background-color: var(--bg-color);\n",
              "    border: none;\n",
              "    border-radius: 50%;\n",
              "    cursor: pointer;\n",
              "    display: none;\n",
              "    fill: var(--fill-color);\n",
              "    height: 32px;\n",
              "    padding: 0;\n",
              "    width: 32px;\n",
              "  }\n",
              "\n",
              "  .colab-df-quickchart:hover {\n",
              "    background-color: var(--hover-bg-color);\n",
              "    box-shadow: 0 1px 2px rgba(60, 64, 67, 0.3), 0 1px 3px 1px rgba(60, 64, 67, 0.15);\n",
              "    fill: var(--button-hover-fill-color);\n",
              "  }\n",
              "\n",
              "  .colab-df-quickchart-complete:disabled,\n",
              "  .colab-df-quickchart-complete:disabled:hover {\n",
              "    background-color: var(--disabled-bg-color);\n",
              "    fill: var(--disabled-fill-color);\n",
              "    box-shadow: none;\n",
              "  }\n",
              "\n",
              "  .colab-df-spinner {\n",
              "    border: 2px solid var(--fill-color);\n",
              "    border-color: transparent;\n",
              "    border-bottom-color: var(--fill-color);\n",
              "    animation:\n",
              "      spin 1s steps(1) infinite;\n",
              "  }\n",
              "\n",
              "  @keyframes spin {\n",
              "    0% {\n",
              "      border-color: transparent;\n",
              "      border-bottom-color: var(--fill-color);\n",
              "      border-left-color: var(--fill-color);\n",
              "    }\n",
              "    20% {\n",
              "      border-color: transparent;\n",
              "      border-left-color: var(--fill-color);\n",
              "      border-top-color: var(--fill-color);\n",
              "    }\n",
              "    30% {\n",
              "      border-color: transparent;\n",
              "      border-left-color: var(--fill-color);\n",
              "      border-top-color: var(--fill-color);\n",
              "      border-right-color: var(--fill-color);\n",
              "    }\n",
              "    40% {\n",
              "      border-color: transparent;\n",
              "      border-right-color: var(--fill-color);\n",
              "      border-top-color: var(--fill-color);\n",
              "    }\n",
              "    60% {\n",
              "      border-color: transparent;\n",
              "      border-right-color: var(--fill-color);\n",
              "    }\n",
              "    80% {\n",
              "      border-color: transparent;\n",
              "      border-right-color: var(--fill-color);\n",
              "      border-bottom-color: var(--fill-color);\n",
              "    }\n",
              "    90% {\n",
              "      border-color: transparent;\n",
              "      border-bottom-color: var(--fill-color);\n",
              "    }\n",
              "  }\n",
              "</style>\n",
              "\n",
              "  <script>\n",
              "    async function quickchart(key) {\n",
              "      const quickchartButtonEl =\n",
              "        document.querySelector('#' + key + ' button');\n",
              "      quickchartButtonEl.disabled = true;  // To prevent multiple clicks.\n",
              "      quickchartButtonEl.classList.add('colab-df-spinner');\n",
              "      try {\n",
              "        const charts = await google.colab.kernel.invokeFunction(\n",
              "            'suggestCharts', [key], {});\n",
              "      } catch (error) {\n",
              "        console.error('Error during call to suggestCharts:', error);\n",
              "      }\n",
              "      quickchartButtonEl.classList.remove('colab-df-spinner');\n",
              "      quickchartButtonEl.classList.add('colab-df-quickchart-complete');\n",
              "    }\n",
              "    (() => {\n",
              "      let quickchartButtonEl =\n",
              "        document.querySelector('#df-b9e1365e-ffda-4c9e-ae1a-c7ee7dc81587 button');\n",
              "      quickchartButtonEl.style.display =\n",
              "        google.colab.kernel.accessAllowed ? 'block' : 'none';\n",
              "    })();\n",
              "  </script>\n",
              "</div>\n",
              "\n",
              "    </div>\n",
              "  </div>\n"
            ],
            "application/vnd.google.colaboratory.intrinsic+json": {
              "type": "dataframe",
              "summary": "{\n  \"name\": \"data\",\n  \"rows\": 8,\n  \"fields\": [\n    {\n      \"column\": \"Power\",\n      \"properties\": {\n        \"dtype\": \"number\",\n        \"std\": 116.06764005911727,\n        \"min\": 30.0,\n        \"max\": 350.0,\n        \"num_unique_values\": 8,\n        \"samples\": [\n          163.5722891566265,\n          150.0,\n          332.0\n        ],\n        \"semantic_type\": \"\",\n        \"description\": \"\"\n      }\n    },\n    {\n      \"column\": \"Speed \",\n      \"properties\": {\n        \"dtype\": \"number\",\n        \"std\": 1046.6348383722138,\n        \"min\": 18.76,\n        \"max\": 3400.0,\n        \"num_unique_values\": 8,\n        \"samples\": [\n          828.6303012048193,\n          800.0,\n          332.0\n        ],\n        \"semantic_type\": \"\",\n        \"description\": \"\"\n      }\n    },\n    {\n      \"column\": \"Hatch \",\n      \"properties\": {\n        \"dtype\": \"number\",\n        \"std\": 117.35199723271889,\n        \"min\": 0.018,\n        \"max\": 332.0,\n        \"num_unique_values\": 8,\n        \"samples\": [\n          0.08501506024096385,\n          0.08,\n          332.0\n        ],\n        \"semantic_type\": \"\",\n        \"description\": \"\"\n      }\n    },\n    {\n      \"column\": \"Thickness\",\n      \"properties\": {\n        \"dtype\": \"number\",\n        \"std\": 117.34524549059007,\n        \"min\": 0.02,\n        \"max\": 332.0,\n        \"num_unique_values\": 7,\n        \"samples\": [\n          332.0,\n          0.043042168674698796,\n          0.04\n        ],\n        \"semantic_type\": \"\",\n        \"description\": \"\"\n      }\n    },\n    {\n      \"column\": \"Spot\",\n      \"properties\": {\n        \"dtype\": \"number\",\n        \"std\": 117.35232131397171,\n        \"min\": 0.031882551752483286,\n        \"max\": 332.0,\n        \"num_unique_values\": 8,\n        \"samples\": [\n          0.07593373493975904,\n          0.07,\n          332.0\n        ],\n        \"semantic_type\": \"\",\n        \"description\": \"\"\n      }\n    },\n    {\n      \"column\": \"Energy\",\n      \"properties\": {\n        \"dtype\": \"number\",\n        \"std\": 425.88500748708134,\n        \"min\": 21.37,\n        \"max\": 1295.61,\n        \"num_unique_values\": 8,\n        \"samples\": [\n          109.27114457831327,\n          83.33,\n          332.0\n        ],\n        \"semantic_type\": \"\",\n        \"description\": \"\"\n      }\n    },\n    {\n      \"column\": \"PSD \",\n      \"properties\": {\n        \"dtype\": \"number\",\n        \"std\": 108.4913424677626,\n        \"min\": 6.777627736279934,\n        \"max\": 332.0,\n        \"num_unique_values\": 8,\n        \"samples\": [\n          30.36518072289157,\n          30.0,\n          332.0\n        ],\n        \"semantic_type\": \"\",\n        \"description\": \"\"\n      }\n    },\n    {\n      \"column\": \"Atmosphere\",\n      \"properties\": {\n        \"dtype\": \"number\",\n        \"std\": 116.15638646614977,\n        \"min\": 1.0,\n        \"max\": 332.0,\n        \"num_unique_values\": 6,\n        \"samples\": [\n          332.0,\n          3.786144578313253,\n          7.0\n        ],\n        \"semantic_type\": \"\",\n        \"description\": \"\"\n      }\n    },\n    {\n      \"column\": \" Geometry\",\n      \"properties\": {\n        \"dtype\": \"number\",\n        \"std\": 116.70554590685833,\n        \"min\": 1.0,\n        \"max\": 332.0,\n        \"num_unique_values\": 7,\n        \"samples\": [\n          332.0,\n          1.9216867469879517,\n          3.0\n        ],\n        \"semantic_type\": \"\",\n        \"description\": \"\"\n      }\n    },\n    {\n      \"column\": \" Strategy\",\n      \"properties\": {\n        \"dtype\": \"number\",\n        \"std\": 115.95000316149525,\n        \"min\": 1.0,\n        \"max\": 332.0,\n        \"num_unique_values\": 7,\n        \"samples\": [\n          332.0,\n          4.575301204819277,\n          4.0\n        ],\n        \"semantic_type\": \"\",\n        \"description\": \"\"\n      }\n    },\n    {\n      \"column\": \"RD\",\n      \"properties\": {\n        \"dtype\": \"number\",\n        \"std\": 94.01339154857246,\n        \"min\": 3.752453043392268,\n        \"max\": 332.0,\n        \"num_unique_values\": 8,\n        \"samples\": [\n          96.3290060240964,\n          97.74,\n          332.0\n        ],\n        \"semantic_type\": \"\",\n        \"description\": \"\"\n      }\n    }\n  ]\n}"
            }
          },
          "metadata": {},
          "execution_count": 8
        }
      ]
    },
    {
      "cell_type": "code",
      "source": [
        "df = data.copy()\n",
        "df.head()"
      ],
      "metadata": {
        "colab": {
          "base_uri": "https://localhost:8080/",
          "height": 206
        },
        "id": "OXS5CI-SeGEa",
        "outputId": "919659b1-6356-4542-c655-d88bf9153678"
      },
      "execution_count": 13,
      "outputs": [
        {
          "output_type": "execute_result",
          "data": {
            "text/plain": [
              "   Power  Speed   Hatch   Thickness  Spot  Energy  PSD   Atmosphere  \\\n",
              "0  200.0   800.0    0.10       0.03  0.07   83.33  35.5           1   \n",
              "1  275.0  1000.0    0.12       0.03  0.07   76.39  35.5           1   \n",
              "2  350.0  1200.0    0.12       0.03  0.07   81.02  35.5           1   \n",
              "3  200.0   800.0    0.08       0.03  0.07  104.17  35.5           1   \n",
              "4  200.0   800.0    0.12       0.03  0.07   69.44  35.5           1   \n",
              "\n",
              "    Geometry   Strategy     RD  \n",
              "0          2          1  99.99  \n",
              "1          2          1  99.98  \n",
              "2          2          1  99.98  \n",
              "3          2          1  99.98  \n",
              "4          2          1  99.97  "
            ],
            "text/html": [
              "\n",
              "  <div id=\"df-bcb43767-2c52-4bcd-89cc-d4b0d2250fb5\" class=\"colab-df-container\">\n",
              "    <div>\n",
              "<style scoped>\n",
              "    .dataframe tbody tr th:only-of-type {\n",
              "        vertical-align: middle;\n",
              "    }\n",
              "\n",
              "    .dataframe tbody tr th {\n",
              "        vertical-align: top;\n",
              "    }\n",
              "\n",
              "    .dataframe thead th {\n",
              "        text-align: right;\n",
              "    }\n",
              "</style>\n",
              "<table border=\"1\" class=\"dataframe\">\n",
              "  <thead>\n",
              "    <tr style=\"text-align: right;\">\n",
              "      <th></th>\n",
              "      <th>Power</th>\n",
              "      <th>Speed</th>\n",
              "      <th>Hatch</th>\n",
              "      <th>Thickness</th>\n",
              "      <th>Spot</th>\n",
              "      <th>Energy</th>\n",
              "      <th>PSD</th>\n",
              "      <th>Atmosphere</th>\n",
              "      <th>Geometry</th>\n",
              "      <th>Strategy</th>\n",
              "      <th>RD</th>\n",
              "    </tr>\n",
              "  </thead>\n",
              "  <tbody>\n",
              "    <tr>\n",
              "      <th>0</th>\n",
              "      <td>200.0</td>\n",
              "      <td>800.0</td>\n",
              "      <td>0.10</td>\n",
              "      <td>0.03</td>\n",
              "      <td>0.07</td>\n",
              "      <td>83.33</td>\n",
              "      <td>35.5</td>\n",
              "      <td>1</td>\n",
              "      <td>2</td>\n",
              "      <td>1</td>\n",
              "      <td>99.99</td>\n",
              "    </tr>\n",
              "    <tr>\n",
              "      <th>1</th>\n",
              "      <td>275.0</td>\n",
              "      <td>1000.0</td>\n",
              "      <td>0.12</td>\n",
              "      <td>0.03</td>\n",
              "      <td>0.07</td>\n",
              "      <td>76.39</td>\n",
              "      <td>35.5</td>\n",
              "      <td>1</td>\n",
              "      <td>2</td>\n",
              "      <td>1</td>\n",
              "      <td>99.98</td>\n",
              "    </tr>\n",
              "    <tr>\n",
              "      <th>2</th>\n",
              "      <td>350.0</td>\n",
              "      <td>1200.0</td>\n",
              "      <td>0.12</td>\n",
              "      <td>0.03</td>\n",
              "      <td>0.07</td>\n",
              "      <td>81.02</td>\n",
              "      <td>35.5</td>\n",
              "      <td>1</td>\n",
              "      <td>2</td>\n",
              "      <td>1</td>\n",
              "      <td>99.98</td>\n",
              "    </tr>\n",
              "    <tr>\n",
              "      <th>3</th>\n",
              "      <td>200.0</td>\n",
              "      <td>800.0</td>\n",
              "      <td>0.08</td>\n",
              "      <td>0.03</td>\n",
              "      <td>0.07</td>\n",
              "      <td>104.17</td>\n",
              "      <td>35.5</td>\n",
              "      <td>1</td>\n",
              "      <td>2</td>\n",
              "      <td>1</td>\n",
              "      <td>99.98</td>\n",
              "    </tr>\n",
              "    <tr>\n",
              "      <th>4</th>\n",
              "      <td>200.0</td>\n",
              "      <td>800.0</td>\n",
              "      <td>0.12</td>\n",
              "      <td>0.03</td>\n",
              "      <td>0.07</td>\n",
              "      <td>69.44</td>\n",
              "      <td>35.5</td>\n",
              "      <td>1</td>\n",
              "      <td>2</td>\n",
              "      <td>1</td>\n",
              "      <td>99.97</td>\n",
              "    </tr>\n",
              "  </tbody>\n",
              "</table>\n",
              "</div>\n",
              "    <div class=\"colab-df-buttons\">\n",
              "\n",
              "  <div class=\"colab-df-container\">\n",
              "    <button class=\"colab-df-convert\" onclick=\"convertToInteractive('df-bcb43767-2c52-4bcd-89cc-d4b0d2250fb5')\"\n",
              "            title=\"Convert this dataframe to an interactive table.\"\n",
              "            style=\"display:none;\">\n",
              "\n",
              "  <svg xmlns=\"http://www.w3.org/2000/svg\" height=\"24px\" viewBox=\"0 -960 960 960\">\n",
              "    <path d=\"M120-120v-720h720v720H120Zm60-500h600v-160H180v160Zm220 220h160v-160H400v160Zm0 220h160v-160H400v160ZM180-400h160v-160H180v160Zm440 0h160v-160H620v160ZM180-180h160v-160H180v160Zm440 0h160v-160H620v160Z\"/>\n",
              "  </svg>\n",
              "    </button>\n",
              "\n",
              "  <style>\n",
              "    .colab-df-container {\n",
              "      display:flex;\n",
              "      gap: 12px;\n",
              "    }\n",
              "\n",
              "    .colab-df-convert {\n",
              "      background-color: #E8F0FE;\n",
              "      border: none;\n",
              "      border-radius: 50%;\n",
              "      cursor: pointer;\n",
              "      display: none;\n",
              "      fill: #1967D2;\n",
              "      height: 32px;\n",
              "      padding: 0 0 0 0;\n",
              "      width: 32px;\n",
              "    }\n",
              "\n",
              "    .colab-df-convert:hover {\n",
              "      background-color: #E2EBFA;\n",
              "      box-shadow: 0px 1px 2px rgba(60, 64, 67, 0.3), 0px 1px 3px 1px rgba(60, 64, 67, 0.15);\n",
              "      fill: #174EA6;\n",
              "    }\n",
              "\n",
              "    .colab-df-buttons div {\n",
              "      margin-bottom: 4px;\n",
              "    }\n",
              "\n",
              "    [theme=dark] .colab-df-convert {\n",
              "      background-color: #3B4455;\n",
              "      fill: #D2E3FC;\n",
              "    }\n",
              "\n",
              "    [theme=dark] .colab-df-convert:hover {\n",
              "      background-color: #434B5C;\n",
              "      box-shadow: 0px 1px 3px 1px rgba(0, 0, 0, 0.15);\n",
              "      filter: drop-shadow(0px 1px 2px rgba(0, 0, 0, 0.3));\n",
              "      fill: #FFFFFF;\n",
              "    }\n",
              "  </style>\n",
              "\n",
              "    <script>\n",
              "      const buttonEl =\n",
              "        document.querySelector('#df-bcb43767-2c52-4bcd-89cc-d4b0d2250fb5 button.colab-df-convert');\n",
              "      buttonEl.style.display =\n",
              "        google.colab.kernel.accessAllowed ? 'block' : 'none';\n",
              "\n",
              "      async function convertToInteractive(key) {\n",
              "        const element = document.querySelector('#df-bcb43767-2c52-4bcd-89cc-d4b0d2250fb5');\n",
              "        const dataTable =\n",
              "          await google.colab.kernel.invokeFunction('convertToInteractive',\n",
              "                                                    [key], {});\n",
              "        if (!dataTable) return;\n",
              "\n",
              "        const docLinkHtml = 'Like what you see? Visit the ' +\n",
              "          '<a target=\"_blank\" href=https://colab.research.google.com/notebooks/data_table.ipynb>data table notebook</a>'\n",
              "          + ' to learn more about interactive tables.';\n",
              "        element.innerHTML = '';\n",
              "        dataTable['output_type'] = 'display_data';\n",
              "        await google.colab.output.renderOutput(dataTable, element);\n",
              "        const docLink = document.createElement('div');\n",
              "        docLink.innerHTML = docLinkHtml;\n",
              "        element.appendChild(docLink);\n",
              "      }\n",
              "    </script>\n",
              "  </div>\n",
              "\n",
              "\n",
              "<div id=\"df-4bcae6e5-5d49-41c1-9945-326498e24e6c\">\n",
              "  <button class=\"colab-df-quickchart\" onclick=\"quickchart('df-4bcae6e5-5d49-41c1-9945-326498e24e6c')\"\n",
              "            title=\"Suggest charts\"\n",
              "            style=\"display:none;\">\n",
              "\n",
              "<svg xmlns=\"http://www.w3.org/2000/svg\" height=\"24px\"viewBox=\"0 0 24 24\"\n",
              "     width=\"24px\">\n",
              "    <g>\n",
              "        <path d=\"M19 3H5c-1.1 0-2 .9-2 2v14c0 1.1.9 2 2 2h14c1.1 0 2-.9 2-2V5c0-1.1-.9-2-2-2zM9 17H7v-7h2v7zm4 0h-2V7h2v10zm4 0h-2v-4h2v4z\"/>\n",
              "    </g>\n",
              "</svg>\n",
              "  </button>\n",
              "\n",
              "<style>\n",
              "  .colab-df-quickchart {\n",
              "      --bg-color: #E8F0FE;\n",
              "      --fill-color: #1967D2;\n",
              "      --hover-bg-color: #E2EBFA;\n",
              "      --hover-fill-color: #174EA6;\n",
              "      --disabled-fill-color: #AAA;\n",
              "      --disabled-bg-color: #DDD;\n",
              "  }\n",
              "\n",
              "  [theme=dark] .colab-df-quickchart {\n",
              "      --bg-color: #3B4455;\n",
              "      --fill-color: #D2E3FC;\n",
              "      --hover-bg-color: #434B5C;\n",
              "      --hover-fill-color: #FFFFFF;\n",
              "      --disabled-bg-color: #3B4455;\n",
              "      --disabled-fill-color: #666;\n",
              "  }\n",
              "\n",
              "  .colab-df-quickchart {\n",
              "    background-color: var(--bg-color);\n",
              "    border: none;\n",
              "    border-radius: 50%;\n",
              "    cursor: pointer;\n",
              "    display: none;\n",
              "    fill: var(--fill-color);\n",
              "    height: 32px;\n",
              "    padding: 0;\n",
              "    width: 32px;\n",
              "  }\n",
              "\n",
              "  .colab-df-quickchart:hover {\n",
              "    background-color: var(--hover-bg-color);\n",
              "    box-shadow: 0 1px 2px rgba(60, 64, 67, 0.3), 0 1px 3px 1px rgba(60, 64, 67, 0.15);\n",
              "    fill: var(--button-hover-fill-color);\n",
              "  }\n",
              "\n",
              "  .colab-df-quickchart-complete:disabled,\n",
              "  .colab-df-quickchart-complete:disabled:hover {\n",
              "    background-color: var(--disabled-bg-color);\n",
              "    fill: var(--disabled-fill-color);\n",
              "    box-shadow: none;\n",
              "  }\n",
              "\n",
              "  .colab-df-spinner {\n",
              "    border: 2px solid var(--fill-color);\n",
              "    border-color: transparent;\n",
              "    border-bottom-color: var(--fill-color);\n",
              "    animation:\n",
              "      spin 1s steps(1) infinite;\n",
              "  }\n",
              "\n",
              "  @keyframes spin {\n",
              "    0% {\n",
              "      border-color: transparent;\n",
              "      border-bottom-color: var(--fill-color);\n",
              "      border-left-color: var(--fill-color);\n",
              "    }\n",
              "    20% {\n",
              "      border-color: transparent;\n",
              "      border-left-color: var(--fill-color);\n",
              "      border-top-color: var(--fill-color);\n",
              "    }\n",
              "    30% {\n",
              "      border-color: transparent;\n",
              "      border-left-color: var(--fill-color);\n",
              "      border-top-color: var(--fill-color);\n",
              "      border-right-color: var(--fill-color);\n",
              "    }\n",
              "    40% {\n",
              "      border-color: transparent;\n",
              "      border-right-color: var(--fill-color);\n",
              "      border-top-color: var(--fill-color);\n",
              "    }\n",
              "    60% {\n",
              "      border-color: transparent;\n",
              "      border-right-color: var(--fill-color);\n",
              "    }\n",
              "    80% {\n",
              "      border-color: transparent;\n",
              "      border-right-color: var(--fill-color);\n",
              "      border-bottom-color: var(--fill-color);\n",
              "    }\n",
              "    90% {\n",
              "      border-color: transparent;\n",
              "      border-bottom-color: var(--fill-color);\n",
              "    }\n",
              "  }\n",
              "</style>\n",
              "\n",
              "  <script>\n",
              "    async function quickchart(key) {\n",
              "      const quickchartButtonEl =\n",
              "        document.querySelector('#' + key + ' button');\n",
              "      quickchartButtonEl.disabled = true;  // To prevent multiple clicks.\n",
              "      quickchartButtonEl.classList.add('colab-df-spinner');\n",
              "      try {\n",
              "        const charts = await google.colab.kernel.invokeFunction(\n",
              "            'suggestCharts', [key], {});\n",
              "      } catch (error) {\n",
              "        console.error('Error during call to suggestCharts:', error);\n",
              "      }\n",
              "      quickchartButtonEl.classList.remove('colab-df-spinner');\n",
              "      quickchartButtonEl.classList.add('colab-df-quickchart-complete');\n",
              "    }\n",
              "    (() => {\n",
              "      let quickchartButtonEl =\n",
              "        document.querySelector('#df-4bcae6e5-5d49-41c1-9945-326498e24e6c button');\n",
              "      quickchartButtonEl.style.display =\n",
              "        google.colab.kernel.accessAllowed ? 'block' : 'none';\n",
              "    })();\n",
              "  </script>\n",
              "</div>\n",
              "\n",
              "    </div>\n",
              "  </div>\n"
            ],
            "application/vnd.google.colaboratory.intrinsic+json": {
              "type": "dataframe",
              "variable_name": "df",
              "summary": "{\n  \"name\": \"df\",\n  \"rows\": 332,\n  \"fields\": [\n    {\n      \"column\": \"Power\",\n      \"properties\": {\n        \"dtype\": \"number\",\n        \"std\": 56.13908453894501,\n        \"min\": 30.0,\n        \"max\": 350.0,\n        \"num_unique_values\": 24,\n        \"samples\": [\n          80.0,\n          107.0,\n          200.0\n        ],\n        \"semantic_type\": \"\",\n        \"description\": \"\"\n      }\n    },\n    {\n      \"column\": \"Speed \",\n      \"properties\": {\n        \"dtype\": \"number\",\n        \"std\": 528.6007636794021,\n        \"min\": 18.76,\n        \"max\": 3400.0,\n        \"num_unique_values\": 76,\n        \"samples\": [\n          600.0,\n          233.92,\n          750.0\n        ],\n        \"semantic_type\": \"\",\n        \"description\": \"\"\n      }\n    },\n    {\n      \"column\": \"Hatch \",\n      \"properties\": {\n        \"dtype\": \"number\",\n        \"std\": 0.026150674533292825,\n        \"min\": 0.018,\n        \"max\": 0.16,\n        \"num_unique_values\": 31,\n        \"samples\": [\n          0.114,\n          0.116,\n          0.11\n        ],\n        \"semantic_type\": \"\",\n        \"description\": \"\"\n      }\n    },\n    {\n      \"column\": \"Thickness\",\n      \"properties\": {\n        \"dtype\": \"number\",\n        \"std\": 0.06148778302348917,\n        \"min\": 0.02,\n        \"max\": 0.46,\n        \"num_unique_values\": 8,\n        \"samples\": [\n          0.02,\n          0.04,\n          0.03\n        ],\n        \"semantic_type\": \"\",\n        \"description\": \"\"\n      }\n    },\n    {\n      \"column\": \"Spot\",\n      \"properties\": {\n        \"dtype\": \"number\",\n        \"std\": 0.031882551752483286,\n        \"min\": 0.035,\n        \"max\": 0.2,\n        \"num_unique_values\": 10,\n        \"samples\": [\n          0.09,\n          0.1,\n          0.05\n        ],\n        \"semantic_type\": \"\",\n        \"description\": \"\"\n      }\n    },\n    {\n      \"column\": \"Energy\",\n      \"properties\": {\n        \"dtype\": \"number\",\n        \"std\": 110.7174025075612,\n        \"min\": 21.37,\n        \"max\": 1295.61,\n        \"num_unique_values\": 151,\n        \"samples\": [\n          69.59,\n          46.3,\n          630.29\n        ],\n        \"semantic_type\": \"\",\n        \"description\": \"\"\n      }\n    },\n    {\n      \"column\": \"PSD \",\n      \"properties\": {\n        \"dtype\": \"number\",\n        \"std\": 6.777627736279934,\n        \"min\": 14.63,\n        \"max\": 46.0,\n        \"num_unique_values\": 15,\n        \"samples\": [\n          38.0,\n          26.25,\n          35.5\n        ],\n        \"semantic_type\": \"\",\n        \"description\": \"\"\n      }\n    },\n    {\n      \"column\": \"Atmosphere\",\n      \"properties\": {\n        \"dtype\": \"number\",\n        \"std\": 2,\n        \"min\": 1,\n        \"max\": 7,\n        \"num_unique_values\": 3,\n        \"samples\": [\n          1,\n          2,\n          7\n        ],\n        \"semantic_type\": \"\",\n        \"description\": \"\"\n      }\n    },\n    {\n      \"column\": \" Geometry\",\n      \"properties\": {\n        \"dtype\": \"number\",\n        \"std\": 1,\n        \"min\": 1,\n        \"max\": 4,\n        \"num_unique_values\": 4,\n        \"samples\": [\n          1,\n          4,\n          2\n        ],\n        \"semantic_type\": \"\",\n        \"description\": \"\"\n      }\n    },\n    {\n      \"column\": \" Strategy\",\n      \"properties\": {\n        \"dtype\": \"number\",\n        \"std\": 2,\n        \"min\": 1,\n        \"max\": 7,\n        \"num_unique_values\": 7,\n        \"samples\": [\n          1,\n          2,\n          6\n        ],\n        \"semantic_type\": \"\",\n        \"description\": \"\"\n      }\n    },\n    {\n      \"column\": \"RD\",\n      \"properties\": {\n        \"dtype\": \"number\",\n        \"std\": 3.752453043392268,\n        \"min\": 85.1,\n        \"max\": 99.99,\n        \"num_unique_values\": 234,\n        \"samples\": [\n          98.61,\n          89.31,\n          93.3\n        ],\n        \"semantic_type\": \"\",\n        \"description\": \"\"\n      }\n    }\n  ]\n}"
            }
          },
          "metadata": {},
          "execution_count": 13
        }
      ]
    },
    {
      "cell_type": "code",
      "source": [
        "print(df.isna().any())"
      ],
      "metadata": {
        "colab": {
          "base_uri": "https://localhost:8080/"
        },
        "id": "uJCpNmt4eY5J",
        "outputId": "39c5ea76-d413-4b50-8444-abdccbfd1c18"
      },
      "execution_count": 14,
      "outputs": [
        {
          "output_type": "stream",
          "name": "stdout",
          "text": [
            "Power         False\n",
            "Speed         False\n",
            "Hatch         False\n",
            "Thickness     False\n",
            "Spot          False\n",
            "Energy        False\n",
            "PSD           False\n",
            "Atmosphere    False\n",
            " Geometry     False\n",
            " Strategy     False\n",
            "RD            False\n",
            "dtype: bool\n"
          ]
        }
      ]
    },
    {
      "cell_type": "markdown",
      "source": [
        "# Mutual information"
      ],
      "metadata": {
        "id": "AdG1x-CrdR7D"
      }
    },
    {
      "cell_type": "code",
      "source": [
        "# Mutual Information\n",
        "from sklearn.feature_selection import mutual_info_regression\n",
        "from sklearn.preprocessing import StandardScaler\n",
        "\n",
        "X = df.iloc[:, :-1]\n",
        "y = df.iloc[:, -1].values.reshape(-1,1)\n",
        "scaler = StandardScaler()\n",
        "X_scaled = scaler.fit_transform(X)\n",
        "y_zscored = scaler.fit_transform(y)\n",
        "y = y_zscored.flatten()\n",
        "X = X_scaled\n",
        "mi = mutual_info_regression(X, y)\n",
        "\n",
        "mi_df = pd.DataFrame({\n",
        "    'Feature': data.columns[:-1],\n",
        "    'Mutual Information': mi\n",
        "})\n",
        "\n",
        "mi_df = mi_df.sort_values(by='Mutual Information', ascending=False)\n",
        "print(mi_df)"
      ],
      "metadata": {
        "colab": {
          "base_uri": "https://localhost:8080/"
        },
        "id": "Kt4SihZDeeVF",
        "outputId": "41a6e8e2-7cec-4a56-e386-5fde92527666"
      },
      "execution_count": 17,
      "outputs": [
        {
          "output_type": "stream",
          "name": "stdout",
          "text": [
            "      Feature  Mutual Information\n",
            "6        PSD             0.726757\n",
            "9    Strategy            0.494573\n",
            "2      Hatch             0.482447\n",
            "4        Spot            0.426094\n",
            "0       Power            0.409511\n",
            "8    Geometry            0.304151\n",
            "1      Speed             0.250164\n",
            "5      Energy            0.232157\n",
            "7  Atmosphere            0.226549\n",
            "3   Thickness            0.202285\n"
          ]
        }
      ]
    },
    {
      "cell_type": "code",
      "source": [
        "# Plotting\n",
        "plt.rcParams['font.family'] = 'serif'\n",
        "plt.rcParams['font.size'] = 11\n",
        "\n",
        "import seaborn as sns\n",
        "\n",
        "plt.style.use('seaborn-v0_8-white')\n",
        "palette = sns.color_palette(\"viridis\", len(mi_df))\n",
        "plt.figure(figsize=(8, 6))\n",
        "plt.barh(mi_df['Feature'], mi_df['Mutual Information']*100, color=palette)\n",
        "plt.xlabel('Mutual Information (%)', fontsize=14)\n",
        "plt.ylabel('Features', fontsize=14)\n",
        "plt.title('Feature Importance Based on Mutual Information', fontsize=16)\n",
        "plt.gca().invert_yaxis()\n",
        "plt.grid(True, which='both', linestyle='--', linewidth=0.5)\n",
        "plt.tight_layout()\n",
        "plt.show()"
      ],
      "metadata": {
        "colab": {
          "base_uri": "https://localhost:8080/",
          "height": 604
        },
        "id": "q2t81S_Gertm",
        "outputId": "c5e6ea3b-9092-4e68-f108-8c637368d865"
      },
      "execution_count": 53,
      "outputs": [
        {
          "output_type": "display_data",
          "data": {
            "text/plain": [
              "<Figure size 800x600 with 1 Axes>"
            ],
            "image/png": "[encoded data removed]"
          },
          "metadata": {}
        }
      ]
    },
    {
      "cell_type": "markdown",
      "metadata": {
        "id": "lFVoj9tfSQJJ"
      },
      "source": [
        "\n",
        "Setting inputs - output:"
      ]
    },
    {
      "cell_type": "code",
      "metadata": {
        "id": "VJ_ob8PakPzf"
      },
      "source": [
        "#X=data[['P', 'S', 'L',  'HD1',  'F', 'd' ]]\n",
        "X=data[['Power', 'Speed ', 'Hatch ',  'Thickness', 'Spot', 'Energy', 'PSD ', 'Atmosphere', ' Geometry', ' Strategy']]\n",
        "Y = data['RD'].values.reshape(-1, 1)"
      ],
      "execution_count": 21,
      "outputs": []
    },
    {
      "cell_type": "markdown",
      "metadata": {
        "id": "7o8zckSzFI7O"
      },
      "source": [
        "# RD prediction"
      ]
    },
    {
      "cell_type": "markdown",
      "metadata": {
        "id": "Q6pAiesfTDDU"
      },
      "source": [
        " Split data"
      ]
    },
    {
      "cell_type": "code",
      "metadata": {
        "colab": {
          "base_uri": "https://localhost:8080/"
        },
        "id": "HI3IlTeHTF_Z",
        "outputId": "85d829ab-3000-42ab-843e-90ddbfb1a9fa"
      },
      "source": [
        "from sklearn.model_selection import train_test_split\n",
        "\n",
        "X_train, X_test, y_train, y_test = train_test_split(X, Y, test_size=0.2, random_state=42)\n",
        "print('training samples:', X_train.shape[0],  ' test samples:', X_test.shape[0])"
      ],
      "execution_count": 22,
      "outputs": [
        {
          "output_type": "stream",
          "name": "stdout",
          "text": [
            "training samples: 265  test samples: 67\n"
          ]
        }
      ]
    },
    {
      "cell_type": "code",
      "metadata": {
        "colab": {
          "base_uri": "https://localhost:8080/"
        },
        "id": "1aSG6IEM8RK4",
        "outputId": "711c847d-e34b-44af-ebb3-de2a1b7f066c"
      },
      "source": [
        "YTR=np.mean(y_train)\n",
        "YTR"
      ],
      "execution_count": 23,
      "outputs": [
        {
          "output_type": "execute_result",
          "data": {
            "text/plain": [
              "96.27588679245284"
            ]
          },
          "metadata": {},
          "execution_count": 23
        }
      ]
    },
    {
      "cell_type": "code",
      "metadata": {
        "colab": {
          "base_uri": "https://localhost:8080/"
        },
        "id": "dcJ9-slG8jCA",
        "outputId": "ced4765f-a56a-4236-cdfb-3cae085c69dc"
      },
      "source": [
        "YT=np.mean(y_test)\n",
        "YT"
      ],
      "execution_count": 24,
      "outputs": [
        {
          "output_type": "execute_result",
          "data": {
            "text/plain": [
              "96.53910447761194"
            ]
          },
          "metadata": {},
          "execution_count": 24
        }
      ]
    },
    {
      "cell_type": "code",
      "metadata": {
        "id": "N9C38QmsAXm-"
      },
      "source": [
        "from sklearn.preprocessing import StandardScaler\n",
        "\n",
        "scaler = StandardScaler()\n",
        "X_train = scaler.fit_transform(X_train)\n",
        "X_test = scaler.transform(X_test)\n",
        "\n",
        "#y_train = scaler.fit_transform(y_train)\n",
        "#y_test = scaler.transform(y_test)\n"
      ],
      "execution_count": 25,
      "outputs": []
    },
    {
      "cell_type": "markdown",
      "metadata": {
        "id": "7Zk7lMoGhdFO"
      },
      "source": [
        "###Results:"
      ]
    },
    {
      "cell_type": "code",
      "metadata": {
        "id": "zNL_O3xVwKpR"
      },
      "source": [
        "from lazypredict.Supervised import LazyRegressor\n",
        "from sklearn.utils import shuffle"
      ],
      "execution_count": 26,
      "outputs": []
    },
    {
      "cell_type": "code",
      "metadata": {
        "colab": {
          "base_uri": "https://localhost:8080/"
        },
        "id": "gf5o7CPSwQaT",
        "outputId": "7d3aac28-dfc4-47bc-98e1-a4d4542ba5cd"
      },
      "source": [
        "from sklearn.metrics import mean_absolute_error as MAE\n",
        "reg = LazyRegressor(verbose=0,ignore_warnings=False, custom_metric=None)\n",
        "models,predictions = reg.fit(X_train, X_test, y_train, y_test)\n",
        "\n",
        "print(models)"
      ],
      "execution_count": 27,
      "outputs": [
        {
          "output_type": "stream",
          "name": "stderr",
          "text": [
            "100%|██████████| 42/42 [00:01<00:00, 21.85it/s]"
          ]
        },
        {
          "output_type": "stream",
          "name": "stdout",
          "text": [
            "[LightGBM] [Info] Auto-choosing row-wise multi-threading, the overhead of testing was 0.000912 seconds.\n",
            "You can set `force_row_wise=true` to remove the overhead.\n",
            "And if memory is not enough, you can set `force_col_wise=true`.\n",
            "[LightGBM] [Info] Total Bins 199\n",
            "[LightGBM] [Info] Number of data points in the train set: 265, number of used features: 10\n",
            "[LightGBM] [Info] Start training from score 96.275887\n",
            "[LightGBM] [Warning] No further splits with positive gain, best gain: -inf\n",
            "[LightGBM] [Warning] No further splits with positive gain, best gain: -inf\n",
            "[LightGBM] [Warning] No further splits with positive gain, best gain: -inf\n",
            "[LightGBM] [Warning] No further splits with positive gain, best gain: -inf\n",
            "[LightGBM] [Warning] No further splits with positive gain, best gain: -inf\n",
            "[LightGBM] [Warning] No further splits with positive gain, best gain: -inf\n",
            "[LightGBM] [Warning] No further splits with positive gain, best gain: -inf\n",
            "[LightGBM] [Warning] No further splits with positive gain, best gain: -inf\n",
            "[LightGBM] [Warning] No further splits with positive gain, best gain: -inf\n",
            "[LightGBM] [Warning] No further splits with positive gain, best gain: -inf\n",
            "[LightGBM] [Warning] No further splits with positive gain, best gain: -inf\n",
            "[LightGBM] [Warning] No further splits with positive gain, best gain: -inf\n",
            "[LightGBM] [Warning] No further splits with positive gain, best gain: -inf\n",
            "[LightGBM] [Warning] No further splits with positive gain, best gain: -inf\n",
            "[LightGBM] [Warning] No further splits with positive gain, best gain: -inf\n",
            "[LightGBM] [Warning] No further splits with positive gain, best gain: -inf\n",
            "[LightGBM] [Warning] No further splits with positive gain, best gain: -inf\n",
            "[LightGBM] [Warning] No further splits with positive gain, best gain: -inf\n",
            "[LightGBM] [Warning] No further splits with positive gain, best gain: -inf\n",
            "[LightGBM] [Warning] No further splits with positive gain, best gain: -inf\n",
            "[LightGBM] [Warning] No further splits with positive gain, best gain: -inf\n",
            "[LightGBM] [Warning] No further splits with positive gain, best gain: -inf\n",
            "[LightGBM] [Warning] No further splits with positive gain, best gain: -inf\n",
            "[LightGBM] [Warning] No further splits with positive gain, best gain: -inf\n",
            "[LightGBM] [Warning] No further splits with positive gain, best gain: -inf\n",
            "[LightGBM] [Warning] No further splits with positive gain, best gain: -inf\n",
            "[LightGBM] [Warning] No further splits with positive gain, best gain: -inf\n",
            "[LightGBM] [Warning] No further splits with positive gain, best gain: -inf\n",
            "[LightGBM] [Warning] No further splits with positive gain, best gain: -inf\n",
            "[LightGBM] [Warning] No further splits with positive gain, best gain: -inf\n",
            "[LightGBM] [Warning] No further splits with positive gain, best gain: -inf\n",
            "[LightGBM] [Warning] No further splits with positive gain, best gain: -inf\n",
            "[LightGBM] [Warning] No further splits with positive gain, best gain: -inf\n",
            "[LightGBM] [Warning] No further splits with positive gain, best gain: -inf\n",
            "[LightGBM] [Warning] No further splits with positive gain, best gain: -inf\n",
            "[LightGBM] [Warning] No further splits with positive gain, best gain: -inf\n",
            "[LightGBM] [Warning] No further splits with positive gain, best gain: -inf\n",
            "[LightGBM] [Warning] No further splits with positive gain, best gain: -inf\n",
            "[LightGBM] [Warning] No further splits with positive gain, best gain: -inf\n",
            "[LightGBM] [Warning] No further splits with positive gain, best gain: -inf\n",
            "[LightGBM] [Warning] No further splits with positive gain, best gain: -inf\n",
            "[LightGBM] [Warning] No further splits with positive gain, best gain: -inf\n",
            "[LightGBM] [Warning] No further splits with positive gain, best gain: -inf\n",
            "[LightGBM] [Warning] No further splits with positive gain, best gain: -inf\n",
            "[LightGBM] [Warning] No further splits with positive gain, best gain: -inf\n",
            "[LightGBM] [Warning] No further splits with positive gain, best gain: -inf\n",
            "[LightGBM] [Warning] No further splits with positive gain, best gain: -inf\n",
            "[LightGBM] [Warning] No further splits with positive gain, best gain: -inf\n",
            "[LightGBM] [Warning] No further splits with positive gain, best gain: -inf\n",
            "[LightGBM] [Warning] No further splits with positive gain, best gain: -inf\n",
            "[LightGBM] [Warning] No further splits with positive gain, best gain: -inf\n",
            "[LightGBM] [Warning] No further splits with positive gain, best gain: -inf\n",
            "[LightGBM] [Warning] No further splits with positive gain, best gain: -inf\n",
            "[LightGBM] [Warning] No further splits with positive gain, best gain: -inf\n",
            "[LightGBM] [Warning] No further splits with positive gain, best gain: -inf\n",
            "[LightGBM] [Warning] No further splits with positive gain, best gain: -inf\n",
            "[LightGBM] [Warning] No further splits with positive gain, best gain: -inf\n",
            "[LightGBM] [Warning] No further splits with positive gain, best gain: -inf\n",
            "[LightGBM] [Warning] No further splits with positive gain, best gain: -inf\n",
            "[LightGBM] [Warning] No further splits with positive gain, best gain: -inf\n",
            "[LightGBM] [Warning] No further splits with positive gain, best gain: -inf\n",
            "[LightGBM] [Warning] No further splits with positive gain, best gain: -inf\n",
            "[LightGBM] [Warning] No further splits with positive gain, best gain: -inf\n",
            "[LightGBM] [Warning] No further splits with positive gain, best gain: -inf\n",
            "[LightGBM] [Warning] No further splits with positive gain, best gain: -inf\n",
            "[LightGBM] [Warning] No further splits with positive gain, best gain: -inf\n",
            "[LightGBM] [Warning] No further splits with positive gain, best gain: -inf\n",
            "[LightGBM] [Warning] No further splits with positive gain, best gain: -inf\n",
            "[LightGBM] [Warning] No further splits with positive gain, best gain: -inf\n",
            "[LightGBM] [Warning] No further splits with positive gain, best gain: -inf\n",
            "[LightGBM] [Warning] No further splits with positive gain, best gain: -inf\n",
            "[LightGBM] [Warning] No further splits with positive gain, best gain: -inf\n",
            "[LightGBM] [Warning] No further splits with positive gain, best gain: -inf\n",
            "[LightGBM] [Warning] No further splits with positive gain, best gain: -inf\n",
            "[LightGBM] [Warning] No further splits with positive gain, best gain: -inf\n",
            "[LightGBM] [Warning] No further splits with positive gain, best gain: -inf\n",
            "[LightGBM] [Warning] No further splits with positive gain, best gain: -inf\n",
            "[LightGBM] [Warning] No further splits with positive gain, best gain: -inf\n",
            "[LightGBM] [Warning] No further splits with positive gain, best gain: -inf\n",
            "[LightGBM] [Warning] No further splits with positive gain, best gain: -inf\n",
            "[LightGBM] [Warning] No further splits with positive gain, best gain: -inf\n",
            "[LightGBM] [Warning] No further splits with positive gain, best gain: -inf\n",
            "[LightGBM] [Warning] No further splits with positive gain, best gain: -inf\n",
            "[LightGBM] [Warning] No further splits with positive gain, best gain: -inf\n",
            "[LightGBM] [Warning] No further splits with positive gain, best gain: -inf\n",
            "[LightGBM] [Warning] No further splits with positive gain, best gain: -inf\n",
            "[LightGBM] [Warning] No further splits with positive gain, best gain: -inf\n",
            "[LightGBM] [Warning] No further splits with positive gain, best gain: -inf\n",
            "[LightGBM] [Warning] No further splits with positive gain, best gain: -inf\n",
            "[LightGBM] [Warning] No further splits with positive gain, best gain: -inf\n",
            "[LightGBM] [Warning] No further splits with positive gain, best gain: -inf\n",
            "[LightGBM] [Warning] No further splits with positive gain, best gain: -inf\n",
            "[LightGBM] [Warning] No further splits with positive gain, best gain: -inf\n",
            "[LightGBM] [Warning] No further splits with positive gain, best gain: -inf\n",
            "[LightGBM] [Warning] No further splits with positive gain, best gain: -inf\n",
            "[LightGBM] [Warning] No further splits with positive gain, best gain: -inf\n",
            "[LightGBM] [Warning] No further splits with positive gain, best gain: -inf\n",
            "[LightGBM] [Warning] No further splits with positive gain, best gain: -inf\n",
            "[LightGBM] [Warning] No further splits with positive gain, best gain: -inf\n",
            "[LightGBM] [Warning] No further splits with positive gain, best gain: -inf\n",
            "                               Adjusted R-Squared  R-Squared  RMSE  Time Taken\n",
            "Model                                                                         \n",
            "BaggingRegressor                             0.84       0.86  1.39        0.03\n",
            "GradientBoostingRegressor                    0.80       0.83  1.53        0.16\n",
            "RandomForestRegressor                        0.80       0.83  1.55        0.17\n",
            "ExtraTreesRegressor                          0.78       0.81  1.63        0.11\n",
            "LGBMRegressor                                0.74       0.78  1.75        0.11\n",
            "HistGradientBoostingRegressor                0.74       0.78  1.76        0.08\n",
            "XGBRegressor                                 0.69       0.74  1.90        0.13\n",
            "ExtraTreeRegressor                           0.65       0.70  2.05        0.01\n",
            "KNeighborsRegressor                          0.64       0.69  2.08        0.01\n",
            "AdaBoostRegressor                            0.61       0.67  2.16        0.10\n",
            "DecisionTreeRegressor                        0.52       0.59  2.39        0.01\n",
            "SVR                                          0.49       0.57  2.46        0.01\n",
            "NuSVR                                        0.48       0.56  2.47        0.02\n",
            "TransformedTargetRegressor                   0.22       0.33  3.05        0.01\n",
            "LinearRegression                             0.22       0.33  3.05        0.01\n",
            "Lars                                         0.22       0.33  3.05        0.03\n",
            "Ridge                                        0.22       0.33  3.05        0.01\n",
            "SGDRegressor                                 0.21       0.33  3.05        0.01\n",
            "RidgeCV                                      0.21       0.33  3.06        0.01\n",
            "PoissonRegressor                             0.21       0.33  3.06        0.01\n",
            "BayesianRidge                                0.20       0.32  3.08        0.04\n",
            "LassoLarsIC                                  0.19       0.31  3.11        0.01\n",
            "LassoCV                                      0.18       0.31  3.11        0.08\n",
            "ElasticNetCV                                 0.18       0.31  3.11        0.07\n",
            "LassoLarsCV                                  0.18       0.31  3.11        0.02\n",
            "OrthogonalMatchingPursuitCV                  0.18       0.30  3.12        0.01\n",
            "LarsCV                                       0.17       0.30  3.13        0.04\n",
            "LinearSVR                                    0.15       0.28  3.17        0.01\n",
            "HuberRegressor                               0.14       0.27  3.19        0.02\n",
            "TweedieRegressor                             0.08       0.22  3.31        0.01\n",
            "GammaRegressor                               0.08       0.22  3.31        0.02\n",
            "OrthogonalMatchingPursuit                    0.03       0.17  3.40        0.01\n",
            "ElasticNet                                  -0.01       0.14  3.46        0.01\n",
            "LassoLars                                   -0.08       0.08  3.58        0.01\n",
            "Lasso                                       -0.08       0.08  3.58        0.02\n",
            "DummyRegressor                              -0.18      -0.00  3.75        0.01\n",
            "QuantileRegressor                           -0.30      -0.10  3.93        0.05\n",
            "RANSACRegressor                             -0.41      -0.20  4.09        0.10\n",
            "PassiveAggressiveRegressor                  -1.03      -0.73  4.91        0.01\n",
            "GaussianProcessRegressor                   -12.67     -10.60 12.73        0.02\n",
            "MLPRegressor                              -229.14    -194.27 52.25        0.30\n",
            "KernelRidge                               -785.14    -666.03 96.56        0.02\n"
          ]
        },
        {
          "output_type": "stream",
          "name": "stderr",
          "text": [
            "\n"
          ]
        }
      ]
    },
    {
      "cell_type": "code",
      "source": [
        "#---------Scikit-learn Utilities---------------------------------------------------------------------------------------------\n",
        "from sklearn.metrics import r2_score as R2\n",
        "from sklearn import preprocessing\n",
        "from sklearn.metrics import mean_absolute_error as MAE\n",
        "from sklearn.metrics import mean_squared_error as MSE\n",
        "from sklearn.preprocessing import StandardScaler\n",
        "from sklearn.utils import shuffle\n",
        "from sklearn.ensemble import GradientBoostingRegressor, RandomForestRegressor\n",
        "from sklearn.svm import SVR\n",
        "from sklearn.gaussian_process import GaussianProcessRegressor"
      ],
      "metadata": {
        "id": "AbK1Pqg3mALr"
      },
      "execution_count": 30,
      "outputs": []
    },
    {
      "cell_type": "markdown",
      "metadata": {
        "id": "hkMQ_W07zri6"
      },
      "source": [
        "### XGB"
      ]
    },
    {
      "cell_type": "code",
      "source": [
        "import pickle\n",
        "import xgboost as xgb\n",
        "\n",
        "# Change missing=None to missing=np.nan\n",
        "# Assuming you want to use np.nan for missing values\n",
        "import numpy as np\n",
        "\n",
        "xgbr = xgb.XGBRegressor(base_score=0.5, booster='gbtree', colsample_bylevel=1,\n",
        "             colsample_bynode=1, colsample_bytree=1, gamma=0,\n",
        "             importance_type='gain', learning_rate=0.1, max_delta_step=0,\n",
        "             max_depth=20, min_child_weight=1, missing=np.nan, n_estimators=1000, # Changed missing value to np.nan\n",
        "             n_jobs=1, nthread=None, objective='reg:linear', random_state=42,\n",
        "             reg_alpha=0, reg_lambda=0.1, scale_pos_weight=1, seed=None,\n",
        "             silent=None, subsample=1, verbosity=0)\n",
        "xgbr.fit(X_train, y_train)\n",
        "y_pred = xgbr.predict(X_test)"
      ],
      "metadata": {
        "id": "O3J0qkuoKJ5P"
      },
      "execution_count": 28,
      "outputs": []
    },
    {
      "cell_type": "code",
      "source": [
        "y_train_pred = xgbr.predict(X_train)\n",
        "y_test_pred = xgbr.predict(X_test)\n",
        "\n",
        "y_pred_train = xgbr.predict(X_train)\n",
        "y_pred_test = xgbr.predict(X_test)"
      ],
      "metadata": {
        "id": "XZZLe2QWlaiV"
      },
      "execution_count": 43,
      "outputs": []
    },
    {
      "cell_type": "code",
      "source": [
        "MSE_train = MSE(y_train, y_train_pred)\n",
        "MSE_test = MSE(y_test, y_test_pred)\n",
        "r2_train = R2(y_train, y_train_pred)\n",
        "r2_test = R2(y_test, y_test_pred)\n",
        "mae_train = MAE(y_train, y_train_pred)\n",
        "mae_test = MAE(y_test, y_test_pred)\n",
        "\n",
        "print('-'*100)\n",
        "print(f'Error Metrics')\n",
        "print(f'Training: MAE={mae_train:.4f}, MSE={MSE_train:.4f}, R2={r2_train:.4f}')\n",
        "print(f'Testing: MAE={mae_test:.4f}, MSE={MSE_test:.4f}, R2={r2_test:.4f}')\n",
        "print('-'*100)"
      ],
      "metadata": {
        "colab": {
          "base_uri": "https://localhost:8080/"
        },
        "id": "MpAkEMmNmJLT",
        "outputId": "e2fa4dca-ebaf-45b9-b458-d661e6540c2d"
      },
      "execution_count": 37,
      "outputs": [
        {
          "output_type": "stream",
          "name": "stdout",
          "text": [
            "----------------------------------------------------------------------------------------------------\n",
            "Error Metrics\n",
            "Training: MAE=0.1817, MSE=0.2392, R2=0.9830\n",
            "Testing: MAE=0.9553, MSE=2.4860, R2=0.8222\n",
            "----------------------------------------------------------------------------------------------------\n"
          ]
        }
      ]
    },
    {
      "cell_type": "code",
      "source": [
        "plt.rcParams['font.family'] = 'serif'\n",
        "plt.rcParams['font.size'] = 11\n",
        "\n",
        "fig, axes = plt.subplots(1, 1, figsize=(4.5, 4), sharex=True, sharey=True)\n",
        "\n",
        "ax = axes\n",
        "ax.scatter(y_train, y_pred_train, label=f\"Train (R²={r2_train:.2f})\", alpha=0.7, color='blue')\n",
        "ax.scatter(y_test, y_pred_test, label=f\"Test (R²={r2_test:.2f})\", alpha=0.7, color='red')\n",
        "ax.plot([80, 100], [80, 100], 'k--', lw=2, label='Ideal fit')\n",
        "\n",
        "ax.set_title(\"XGBR\")\n",
        "ax.set_xlabel(\"Experimental Relative Density (%)\")\n",
        "ax.set_ylabel(\"Predicted Relative Density (%)\")\n",
        "\n",
        "ax.set_ylim(80, 101)\n",
        "ax.set_xlim(80, 101)\n",
        "ax.set_yticks(range(80, 101, 5))\n",
        "ax.set_xticks(range(80, 101, 5))\n",
        "ax.legend(loc='lower right')\n",
        "\n",
        "plt.show()"
      ],
      "metadata": {
        "colab": {
          "base_uri": "https://localhost:8080/",
          "height": 406
        },
        "id": "hY-k33DYmzxx",
        "outputId": "dfeb51a5-f321-4a85-94f6-9f51baed95af"
      },
      "execution_count": 61,
      "outputs": [
        {
          "output_type": "display_data",
          "data": {
            "text/plain": [
              "<Figure size 450x400 with 1 Axes>"
            ],
            "image/png": "[encoded data removed]"
          },
          "metadata": {}
        }
      ]
    },
    {
      "cell_type": "code",
      "metadata": {
        "colab": {
          "base_uri": "https://localhost:8080/"
        },
        "id": "0z6iA4Tv5y6c",
        "outputId": "dcd992a5-0170-4009-97e8-9add5989db4f"
      },
      "source": [
        "# get importance\n",
        "\n",
        "importance = xgbr.feature_importances_\n",
        "# summarize feature importance\n",
        "\n",
        "for i,v in enumerate(importance):\n",
        "\tprint('Feature: %0d, Score: %.5f' % (i,v))\n",
        "# plot feature importance\n"
      ],
      "execution_count": 56,
      "outputs": [
        {
          "output_type": "stream",
          "name": "stdout",
          "text": [
            "Feature: 0, Score: 0.01411\n",
            "Feature: 1, Score: 0.00538\n",
            "Feature: 2, Score: 0.01388\n",
            "Feature: 3, Score: 0.00782\n",
            "Feature: 4, Score: 0.04918\n",
            "Feature: 5, Score: 0.02287\n",
            "Feature: 6, Score: 0.13737\n",
            "Feature: 7, Score: 0.07055\n",
            "Feature: 8, Score: 0.56194\n",
            "Feature: 9, Score: 0.11690\n"
          ]
        }
      ]
    },
    {
      "cell_type": "code",
      "metadata": {
        "colab": {
          "base_uri": "https://localhost:8080/",
          "height": 440
        },
        "id": "f5jXaBcveTeJ",
        "outputId": "a7f96b59-aa7a-499e-86dc-784f3c8e97c4"
      },
      "source": [
        "# Create lists for the plot\n",
        "import seaborn as sns\n",
        "\n",
        "plt.style.use('seaborn-v0_8-white')\n",
        "palette = sns.color_palette(\"viridis\", len(mi_df))\n",
        "\n",
        "#plt.rcParams[\"axes.grid\"] = False\n",
        "\n",
        "labels = ['Power', 'Speed ', 'Hatch ',  'Thickness', 'Spot', 'Energy', 'PSD ', 'Atmosphere', ' Geometry', ' Strategy']\n",
        "x_pos = np.arange(len(labels))\n",
        "\n",
        "fig, ax = plt.subplots()\n",
        "fig.set_size_inches((8,5))\n",
        "\n",
        "ax.bar(x_pos, importance, align='center', alpha=0.95, color=palette)\n",
        "ax.set_ylabel('Features Importance')\n",
        "ax.set_xticks(x_pos)\n",
        "ax.set_xticklabels(labels)\n",
        "#ax.set_title('Features Importance Analysis')\n",
        "ax.yaxis.grid(True)\n"
      ],
      "execution_count": 59,
      "outputs": [
        {
          "output_type": "display_data",
          "data": {
            "text/plain": [
              "<Figure size 800x500 with 1 Axes>"
            ],
            "image/png": "[encoded data removed]"
          },
          "metadata": {}
        }
      ]
    },
    {
      "cell_type": "markdown",
      "metadata": {
        "id": "lZ2wVx6IxyZb"
      },
      "source": [
        "## GBR"
      ]
    },
    {
      "cell_type": "code",
      "metadata": {
        "colab": {
          "base_uri": "https://localhost:8080/"
        },
        "id": "Vsko3aNry1kl",
        "outputId": "77ee6da4-e216-43d3-9824-f172ab98e0b8"
      },
      "source": [
        "from sklearn.ensemble import GradientBoostingRegressor\n",
        "#KERNEL\n",
        "#GBR=GradientBoostingRegressor(n_estimators=100, random_state=0)\n",
        "GBR=GradientBoostingRegressor(n_estimators=1000, random_state=42, learning_rate=0.1 )\n",
        "\n",
        "#START TRAINING\n",
        "GBR.fit(X_train, y_train)\n",
        "#PREDICTION\n",
        "y_train_pred = GBR.predict(X_train)\n",
        "y_test_pred = GBR.predict(X_test)\n",
        "\n",
        "y_pred_train = GBR.predict(X_train)\n",
        "y_pred_test = GBR.predict(X_test)\n",
        "\n",
        "MSE_train = MSE(y_train, y_train_pred)\n",
        "MSE_test = MSE(y_test, y_test_pred)\n",
        "r2_train = R2(y_train, y_train_pred)\n",
        "r2_test = R2(y_test, y_test_pred)\n",
        "mae_train = MAE(y_train, y_train_pred)\n",
        "mae_test = MAE(y_test, y_test_pred)\n",
        "\n",
        "print('-'*100)\n",
        "print(f'Error Metrics')\n",
        "print(f'Training: MAE={mae_train:.4f}, MSE={MSE_train:.4f}, R2={r2_train:.4f}')\n",
        "print(f'Testing: MAE={mae_test:.4f}, MSE={MSE_test:.4f}, R2={r2_test:.4f}')\n",
        "print('-'*100)"
      ],
      "execution_count": 65,
      "outputs": [
        {
          "output_type": "stream",
          "name": "stdout",
          "text": [
            "----------------------------------------------------------------------------------------------------\n",
            "Error Metrics\n",
            "Training: MAE=0.2170, MSE=0.2454, R2=0.9825\n",
            "Testing: MAE=1.0310, MSE=2.7731, R2=0.8016\n",
            "----------------------------------------------------------------------------------------------------\n"
          ]
        }
      ]
    },
    {
      "cell_type": "code",
      "source": [
        "plt.rcParams['font.family'] = 'serif'\n",
        "plt.rcParams['font.size'] = 11\n",
        "\n",
        "fig, axes = plt.subplots(1, 1, figsize=(4.5, 4), sharex=True, sharey=True)\n",
        "\n",
        "ax = axes\n",
        "ax.scatter(y_train, y_pred_train, label=f\"Train (R²={r2_train:.2f})\", alpha=0.7, color='blue')\n",
        "ax.scatter(y_test, y_pred_test, label=f\"Test (R²={r2_test:.2f})\", alpha=0.7, color='red')\n",
        "ax.plot([80, 100], [80, 100], 'k--', lw=2, label='Ideal fit')\n",
        "\n",
        "ax.set_title(\"GBR\")\n",
        "ax.set_xlabel(\"Experimental Relative Density (%)\")\n",
        "ax.set_ylabel(\"Predicted Relative Density (%)\")\n",
        "\n",
        "ax.set_ylim(80, 101)\n",
        "ax.set_xlim(80, 101)\n",
        "ax.set_yticks(range(80, 101, 5))\n",
        "ax.set_xticks(range(80, 101, 5))\n",
        "ax.legend(loc='lower right')\n",
        "\n",
        "plt.show()"
      ],
      "metadata": {
        "colab": {
          "base_uri": "https://localhost:8080/",
          "height": 406
        },
        "id": "cqQNntXLtlDN",
        "outputId": "9752b01c-15e4-435b-cafa-87c8b18f49a3"
      },
      "execution_count": 63,
      "outputs": [
        {
          "output_type": "display_data",
          "data": {
            "text/plain": [
              "<Figure size 450x400 with 1 Axes>"
            ],
            "image/png": "[encoded data removed]"
          },
          "metadata": {}
        }
      ]
    },
    {
      "cell_type": "markdown",
      "metadata": {
        "id": "ttmqN0XXnq8H"
      },
      "source": [
        "## RFR"
      ]
    },
    {
      "cell_type": "code",
      "metadata": {
        "colab": {
          "base_uri": "https://localhost:8080/"
        },
        "id": "CP_A-XGEntxU",
        "outputId": "fc449143-17aa-4fcc-a42b-72b846118366"
      },
      "source": [
        "from sklearn.ensemble import RandomForestRegressor\n",
        "#KERNEL\n",
        "RFR=RandomForestRegressor(n_estimators=2000,max_depth=20)\n",
        "\n",
        "#START TRAINING\n",
        "RFR.fit(X_train,y_train)\n",
        "#PREDICTION\n",
        "\n",
        "y_train_pred = RFR.predict(X_train)\n",
        "y_test_pred = RFR.predict(X_test)\n",
        "\n",
        "y_pred_train = RFR.predict(X_train)\n",
        "y_pred_test = RFR.predict(X_test)\n",
        "\n",
        "MSE_train = MSE(y_train, y_train_pred)\n",
        "MSE_test = MSE(y_test, y_test_pred)\n",
        "r2_train = R2(y_train, y_train_pred)\n",
        "r2_test = R2(y_test, y_test_pred)\n",
        "mae_train = MAE(y_train, y_train_pred)\n",
        "mae_test = MAE(y_test, y_test_pred)\n",
        "\n",
        "print('-'*100)\n",
        "print(f'Error Metrics')\n",
        "print(f'Training: MAE={mae_train:.4f}, MSE={MSE_train:.4f}, R2={r2_train:.4f}')\n",
        "print(f'Testing: MAE={mae_test:.4f}, MSE={MSE_test:.4f}, R2={r2_test:.4f}')\n",
        "print('-'*100)"
      ],
      "execution_count": 67,
      "outputs": [
        {
          "output_type": "stream",
          "name": "stdout",
          "text": [
            "----------------------------------------------------------------------------------------------------\n",
            "Error Metrics\n",
            "Training: MAE=0.5262, MSE=0.6636, R2=0.9527\n",
            "Testing: MAE=0.9876, MSE=2.4580, R2=0.8242\n",
            "----------------------------------------------------------------------------------------------------\n"
          ]
        }
      ]
    },
    {
      "cell_type": "code",
      "source": [
        "plt.rcParams['font.family'] = 'serif'\n",
        "plt.rcParams['font.size'] = 11\n",
        "\n",
        "fig, axes = plt.subplots(1, 1, figsize=(4.5, 4), sharex=True, sharey=True)\n",
        "\n",
        "ax = axes\n",
        "ax.scatter(y_train, y_pred_train, label=f\"Train (R²={r2_train:.2f})\", alpha=0.7, color='blue')\n",
        "ax.scatter(y_test, y_pred_test, label=f\"Test (R²={r2_test:.2f})\", alpha=0.7, color='red')\n",
        "ax.plot([80, 100], [80, 100], 'k--', lw=2, label='Ideal fit')\n",
        "\n",
        "ax.set_title(\"RFR\")\n",
        "ax.set_xlabel(\"Experimental Relative Density (%)\")\n",
        "ax.set_ylabel(\"Predicted Relative Density (%)\")\n",
        "\n",
        "ax.set_ylim(80, 101)\n",
        "ax.set_xlim(80, 101)\n",
        "ax.set_yticks(range(80, 101, 5))\n",
        "ax.set_xticks(range(80, 101, 5))\n",
        "ax.legend(loc='lower right')\n",
        "\n",
        "plt.show()"
      ],
      "metadata": {
        "colab": {
          "base_uri": "https://localhost:8080/",
          "height": 406
        },
        "id": "EZN8pa0xuAS9",
        "outputId": "a7f8f157-6a15-4d52-d073-c2383e09b12d"
      },
      "execution_count": 69,
      "outputs": [
        {
          "output_type": "display_data",
          "data": {
            "text/plain": [
              "<Figure size 450x400 with 1 Axes>"
            ],
            "image/png": "[encoded data removed]"
          },
          "metadata": {}
        }
      ]
    },
    {
      "cell_type": "markdown",
      "metadata": {
        "id": "ZOYI1QkauabG"
      },
      "source": [
        "## Comparisson"
      ]
    },
    {
      "cell_type": "code",
      "metadata": {
        "colab": {
          "base_uri": "https://localhost:8080/",
          "height": 228
        },
        "id": "DH0SyeJQ04d1",
        "outputId": "06ae993d-fd20-4702-a8c2-efcd9c8fc6ee"
      },
      "source": [
        "import seaborn as sns\n",
        "sns.set()\n",
        "\n",
        "y1=xgbr.predict(X_test)\n",
        "y2=GBR.predict(X_test)\n",
        "y3=RFR.predict(X_test)\n",
        "\n",
        "#Plots\n",
        "#sns.set_theme(style=\"whitegrid\")\n",
        "#sns.set_theme(style=\"darkgrid\")\n",
        "plt.rcParams[\"axes.grid\"] = True\n",
        "fig = plt.figure()\n",
        "fig.set_size_inches((9,6))\n",
        "import matplotlib.pyplot as plt\n",
        "plt.rcParams.update({'font.size': 30})\n",
        "\n",
        "plt.plot(y_train, y_star_train, 'mx', label = 'Train')\n",
        "plt.plot([y_star_train.min(), y_star_train.max()], [y_star_train.min(), y_star_train.max()], 'k--')\n",
        "plt.plot(y_test, y1, 'rs', label = 'XGBR')\n",
        "plt.plot(y_test, y2, 'g^', label = 'GBR')\n",
        "plt.plot(y_test, y3, 'yp', label = 'RFR')\n",
        "\n",
        "plt.legend()\n",
        "plt.ylabel('Predicted microhardness (HV)')\n",
        "plt.xlabel('Measured microhardness (HV)')\n",
        "#plt.title(\"Machine learning regressors\")\n",
        "print()\n",
        "\n"
      ],
      "execution_count": 72,
      "outputs": [
        {
          "output_type": "error",
          "ename": "NameError",
          "evalue": "name 'y_star_train' is not defined",
          "traceback": [
            "\u001b[0;31m---------------------------------------------------------------------------\u001b[0m",
            "\u001b[0;31mNameError\u001b[0m                                 Traceback (most recent call last)",
            "\u001b[0;32m<ipython-input-72-083089ad1ee7>\u001b[0m in \u001b[0;36m<cell line: 17>\u001b[0;34m()\u001b[0m\n\u001b[1;32m     15\u001b[0m \u001b[0mplt\u001b[0m\u001b[0;34m.\u001b[0m\u001b[0mrcParams\u001b[0m\u001b[0;34m.\u001b[0m\u001b[0mupdate\u001b[0m\u001b[0;34m(\u001b[0m\u001b[0;34m{\u001b[0m\u001b[0;34m'font.size'\u001b[0m\u001b[0;34m:\u001b[0m \u001b[0;36m30\u001b[0m\u001b[0;34m}\u001b[0m\u001b[0;34m)\u001b[0m\u001b[0;34m\u001b[0m\u001b[0;34m\u001b[0m\u001b[0m\n\u001b[1;32m     16\u001b[0m \u001b[0;34m\u001b[0m\u001b[0m\n\u001b[0;32m---> 17\u001b[0;31m \u001b[0mplt\u001b[0m\u001b[0;34m.\u001b[0m\u001b[0mplot\u001b[0m\u001b[0;34m(\u001b[0m\u001b[0my_train\u001b[0m\u001b[0;34m,\u001b[0m \u001b[0my_star_train\u001b[0m\u001b[0;34m,\u001b[0m \u001b[0;34m'mx'\u001b[0m\u001b[0;34m,\u001b[0m \u001b[0mlabel\u001b[0m \u001b[0;34m=\u001b[0m \u001b[0;34m'Train'\u001b[0m\u001b[0;34m)\u001b[0m\u001b[0;34m\u001b[0m\u001b[0;34m\u001b[0m\u001b[0m\n\u001b[0m\u001b[1;32m     18\u001b[0m \u001b[0mplt\u001b[0m\u001b[0;34m.\u001b[0m\u001b[0mplot\u001b[0m\u001b[0;34m(\u001b[0m\u001b[0;34m[\u001b[0m\u001b[0my_star_train\u001b[0m\u001b[0;34m.\u001b[0m\u001b[0mmin\u001b[0m\u001b[0;34m(\u001b[0m\u001b[0;34m)\u001b[0m\u001b[0;34m,\u001b[0m \u001b[0my_star_train\u001b[0m\u001b[0;34m.\u001b[0m\u001b[0mmax\u001b[0m\u001b[0;34m(\u001b[0m\u001b[0;34m)\u001b[0m\u001b[0;34m]\u001b[0m\u001b[0;34m,\u001b[0m \u001b[0;34m[\u001b[0m\u001b[0my_star_train\u001b[0m\u001b[0;34m.\u001b[0m\u001b[0mmin\u001b[0m\u001b[0;34m(\u001b[0m\u001b[0;34m)\u001b[0m\u001b[0;34m,\u001b[0m \u001b[0my_star_train\u001b[0m\u001b[0;34m.\u001b[0m\u001b[0mmax\u001b[0m\u001b[0;34m(\u001b[0m\u001b[0;34m)\u001b[0m\u001b[0;34m]\u001b[0m\u001b[0;34m,\u001b[0m \u001b[0;34m'k--'\u001b[0m\u001b[0;34m)\u001b[0m\u001b[0;34m\u001b[0m\u001b[0;34m\u001b[0m\u001b[0m\n\u001b[1;32m     19\u001b[0m \u001b[0mplt\u001b[0m\u001b[0;34m.\u001b[0m\u001b[0mplot\u001b[0m\u001b[0;34m(\u001b[0m\u001b[0my_test\u001b[0m\u001b[0;34m,\u001b[0m \u001b[0my1\u001b[0m\u001b[0;34m,\u001b[0m \u001b[0;34m'rs'\u001b[0m\u001b[0;34m,\u001b[0m \u001b[0mlabel\u001b[0m \u001b[0;34m=\u001b[0m \u001b[0;34m'XGBR'\u001b[0m\u001b[0;34m)\u001b[0m\u001b[0;34m\u001b[0m\u001b[0;34m\u001b[0m\u001b[0m\n",
            "\u001b[0;31mNameError\u001b[0m: name 'y_star_train' is not defined"
          ]
        },
        {
          "output_type": "display_data",
          "data": {
            "text/plain": [
              "<Figure size 900x600 with 0 Axes>"
            ]
          },
          "metadata": {}
        }
      ]
    },
    {
      "cell_type": "markdown",
      "metadata": {
        "id": "cNDmSIe0TMW4"
      },
      "source": [
        "### CROSS-VALIDATION"
      ]
    },
    {
      "cell_type": "code",
      "metadata": {
        "colab": {
          "base_uri": "https://localhost:8080/"
        },
        "id": "HIEmJUZF69lo",
        "outputId": "bba1e559-5215-4c82-8828-e74ced8694c8"
      },
      "source": [
        "\n",
        "from sklearn.metrics import r2_score\n",
        "from sklearn.metrics import mean_squared_error as MSE\n",
        "from sklearn.metrics import mean_absolute_error\n",
        "from sklearn.model_selection import cross_val_score as CV\n",
        "\n",
        "import warnings\n",
        "warnings.filterwarnings('ignore')\n",
        "\n",
        "models = [ xgbr,  GBR,  RFR ]\n",
        "labels = ['XGBR',  'GBR',  'RFR']\n",
        "IMS = []\n",
        "\n",
        "print(\"--------------------------------------------------------------\")\n",
        "print(\"%5s | %5s | %5s | %5s | %5s \" % (\"ML algorithm\",  \"CV-R2\", \"CV-MSE\", \"CV-MAE\", \"IM\"))\n",
        "print(\"--------------------------------------------------------------\")\n",
        "\n",
        "for mod, label in zip( models, labels):\n",
        "  #y_star = mod.predict(X)\n",
        "\n",
        "  scoreR2 = CV(mod, X_train, y_train, cv=5, scoring='r2')\n",
        "  #print(-1*scoreR2)\n",
        "  scoreMSE = CV(mod, X_train, y_train, cv=5, scoring='neg_mean_squared_error')\n",
        "  #print(-1*scoreMSE)\n",
        "  scoreMAE = CV(mod, X_train, y_train, cv=5, scoring='neg_mean_absolute_error')\n",
        "  #print(-1*scoreMAE)\n",
        "  IM=np.sqrt(((1-scoreR2)**2) + (scoreMSE) + (scoreMAE**2) )\n",
        "  #print(\"IM: \", IM)\n",
        "\n",
        "\n",
        "  print(\"%15s | %.4f | %.4f | %.4f | %.4f \" % (label,  scoreR2.mean(), -1*scoreMSE.mean(), -1*scoreMAE.mean() , np.sqrt(((1-scoreR2.mean())**2) + (-1*scoreMSE.mean()) + (scoreMAE.mean()**2) )))\n",
        "print(\"--------------------------------------------------------------\")"
      ],
      "execution_count": 73,
      "outputs": [
        {
          "output_type": "stream",
          "name": "stdout",
          "text": [
            "--------------------------------------------------------------\n",
            "ML algorithm | CV-R2 | CV-MSE | CV-MAE |    IM \n",
            "--------------------------------------------------------------\n",
            "           XGBR | 0.7027 | 4.0119 | 1.2998 | 2.4062 \n",
            "            GBR | 0.6705 | 4.5120 | 1.3965 | 2.5633 \n",
            "            RFR | 0.7103 | 3.9715 | 1.2959 | 2.3948 \n",
            "--------------------------------------------------------------\n"
          ]
        }
      ]
    },
    {
      "cell_type": "markdown",
      "source": [
        "# Deep learning"
      ],
      "metadata": {
        "id": "ib3pzugTjecv"
      }
    },
    {
      "cell_type": "code",
      "metadata": {
        "id": "icFew20OzB6S",
        "colab": {
          "base_uri": "https://localhost:8080/"
        },
        "outputId": "d09dd282-5ba8-4851-b0f0-0b3a8e129a59"
      },
      "source": [
        "!pip install -q \"tqdm>=4.36.1\"\n",
        "!pip install tensorflow-addons"
      ],
      "execution_count": null,
      "outputs": [
        {
          "output_type": "stream",
          "name": "stdout",
          "text": [
            "Requirement already satisfied: tensorflow-addons in /usr/local/lib/python3.10/dist-packages (0.23.0)\n",
            "Requirement already satisfied: packaging in /usr/local/lib/python3.10/dist-packages (from tensorflow-addons) (24.2)\n",
            "Requirement already satisfied: typeguard<3.0.0,>=2.7 in /usr/local/lib/python3.10/dist-packages (from tensorflow-addons) (2.13.3)\n"
          ]
        }
      ]
    },
    {
      "cell_type": "code",
      "source": [
        "!pip install --upgrade keras"
      ],
      "metadata": {
        "colab": {
          "base_uri": "https://localhost:8080/",
          "height": 532
        },
        "id": "v_fXcWwSkJ7t",
        "outputId": "9ac6519e-93f5-4625-9cba-6b1aa085a6ce"
      },
      "execution_count": null,
      "outputs": [
        {
          "output_type": "stream",
          "name": "stdout",
          "text": [
            "Requirement already satisfied: keras in /usr/local/lib/python3.10/dist-packages (3.5.0)\n",
            "Collecting keras\n",
            "  Downloading keras-3.6.0-py3-none-any.whl.metadata (5.8 kB)\n",
            "Requirement already satisfied: absl-py in /usr/local/lib/python3.10/dist-packages (from keras) (1.4.0)\n",
            "Requirement already satisfied: numpy in /usr/local/lib/python3.10/dist-packages (from keras) (1.26.4)\n",
            "Requirement already satisfied: rich in /usr/local/lib/python3.10/dist-packages (from keras) (13.9.4)\n",
            "Requirement already satisfied: namex in /usr/local/lib/python3.10/dist-packages (from keras) (0.0.8)\n",
            "Requirement already satisfied: h5py in /usr/local/lib/python3.10/dist-packages (from keras) (3.12.1)\n",
            "Requirement already satisfied: optree in /usr/local/lib/python3.10/dist-packages (from keras) (0.13.1)\n",
            "Requirement already satisfied: ml-dtypes in /usr/local/lib/python3.10/dist-packages (from keras) (0.4.1)\n",
            "Requirement already satisfied: packaging in /usr/local/lib/python3.10/dist-packages (from keras) (24.2)\n",
            "Requirement already satisfied: typing-extensions>=4.5.0 in /usr/local/lib/python3.10/dist-packages (from optree->keras) (4.12.2)\n",
            "Requirement already satisfied: markdown-it-py>=2.2.0 in /usr/local/lib/python3.10/dist-packages (from rich->keras) (3.0.0)\n",
            "Requirement already satisfied: pygments<3.0.0,>=2.13.0 in /usr/local/lib/python3.10/dist-packages (from rich->keras) (2.18.0)\n",
            "Requirement already satisfied: mdurl~=0.1 in /usr/local/lib/python3.10/dist-packages (from markdown-it-py>=2.2.0->rich->keras) (0.1.2)\n",
            "Downloading keras-3.6.0-py3-none-any.whl (1.2 MB)\n",
            "\u001b[2K   \u001b[90m━━━━━━━━━━━━━━━━━━━━━━━━━━━━━━━━━━━━━━━━\u001b[0m \u001b[32m1.2/1.2 MB\u001b[0m \u001b[31m32.8 MB/s\u001b[0m eta \u001b[36m0:00:00\u001b[0m\n",
            "\u001b[?25hInstalling collected packages: keras\n",
            "  Attempting uninstall: keras\n",
            "    Found existing installation: keras 3.5.0\n",
            "    Uninstalling keras-3.5.0:\n",
            "      Successfully uninstalled keras-3.5.0\n",
            "Successfully installed keras-3.6.0\n"
          ]
        },
        {
          "output_type": "display_data",
          "data": {
            "application/vnd.colab-display-data+json": {
              "pip_warning": {
                "packages": [
                  "keras"
                ]
              },
              "id": "ae653570d9dc485e9fdd23c91cceb0b8"
            }
          },
          "metadata": {}
        }
      ]
    },
    {
      "cell_type": "code",
      "source": [
        "import math\n",
        "from sklearn import preprocessing\n",
        "import tensorflow_addons as tfa\n",
        "from sklearn.inspection import permutation_importance"
      ],
      "metadata": {
        "colab": {
          "base_uri": "https://localhost:8080/",
          "height": 511
        },
        "id": "UT-CI3Gfjz5T",
        "outputId": "a5ba6461-06c4-47a0-d7ce-4a04a139801d"
      },
      "execution_count": null,
      "outputs": [
        {
          "output_type": "error",
          "ename": "ModuleNotFoundError",
          "evalue": "No module named 'keras.src.engine'",
          "traceback": [
            "\u001b[0;31m---------------------------------------------------------------------------\u001b[0m",
            "\u001b[0;31mModuleNotFoundError\u001b[0m                       Traceback (most recent call last)",
            "\u001b[0;32m<ipython-input-11-4714b996e810>\u001b[0m in \u001b[0;36m<cell line: 3>\u001b[0;34m()\u001b[0m\n\u001b[1;32m      1\u001b[0m \u001b[0;32mimport\u001b[0m \u001b[0mmath\u001b[0m\u001b[0;34m\u001b[0m\u001b[0;34m\u001b[0m\u001b[0m\n\u001b[1;32m      2\u001b[0m \u001b[0;32mfrom\u001b[0m \u001b[0msklearn\u001b[0m \u001b[0;32mimport\u001b[0m \u001b[0mpreprocessing\u001b[0m\u001b[0;34m\u001b[0m\u001b[0;34m\u001b[0m\u001b[0m\n\u001b[0;32m----> 3\u001b[0;31m \u001b[0;32mimport\u001b[0m \u001b[0mtensorflow_addons\u001b[0m \u001b[0;32mas\u001b[0m \u001b[0mtfa\u001b[0m\u001b[0;34m\u001b[0m\u001b[0;34m\u001b[0m\u001b[0m\n\u001b[0m\u001b[1;32m      4\u001b[0m \u001b[0;32mfrom\u001b[0m \u001b[0msklearn\u001b[0m\u001b[0;34m.\u001b[0m\u001b[0minspection\u001b[0m \u001b[0;32mimport\u001b[0m \u001b[0mpermutation_importance\u001b[0m\u001b[0;34m\u001b[0m\u001b[0;34m\u001b[0m\u001b[0m\n",
            "\u001b[0;32m/usr/local/lib/python3.10/dist-packages/tensorflow_addons/__init__.py\u001b[0m in \u001b[0;36m<module>\u001b[0;34m\u001b[0m\n\u001b[1;32m     21\u001b[0m \u001b[0;34m\u001b[0m\u001b[0m\n\u001b[1;32m     22\u001b[0m \u001b[0;31m# Local project imports\u001b[0m\u001b[0;34m\u001b[0m\u001b[0;34m\u001b[0m\u001b[0m\n\u001b[0;32m---> 23\u001b[0;31m \u001b[0;32mfrom\u001b[0m \u001b[0mtensorflow_addons\u001b[0m \u001b[0;32mimport\u001b[0m \u001b[0mactivations\u001b[0m\u001b[0;34m\u001b[0m\u001b[0;34m\u001b[0m\u001b[0m\n\u001b[0m\u001b[1;32m     24\u001b[0m \u001b[0;32mfrom\u001b[0m \u001b[0mtensorflow_addons\u001b[0m \u001b[0;32mimport\u001b[0m \u001b[0mcallbacks\u001b[0m\u001b[0;34m\u001b[0m\u001b[0;34m\u001b[0m\u001b[0m\n\u001b[1;32m     25\u001b[0m \u001b[0;32mfrom\u001b[0m \u001b[0mtensorflow_addons\u001b[0m \u001b[0;32mimport\u001b[0m \u001b[0mimage\u001b[0m\u001b[0;34m\u001b[0m\u001b[0;34m\u001b[0m\u001b[0m\n",
            "\u001b[0;32m/usr/local/lib/python3.10/dist-packages/tensorflow_addons/activations/__init__.py\u001b[0m in \u001b[0;36m<module>\u001b[0;34m\u001b[0m\n\u001b[1;32m     15\u001b[0m \u001b[0;34m\"\"\"Additional activation functions.\"\"\"\u001b[0m\u001b[0;34m\u001b[0m\u001b[0;34m\u001b[0m\u001b[0m\n\u001b[1;32m     16\u001b[0m \u001b[0;34m\u001b[0m\u001b[0m\n\u001b[0;32m---> 17\u001b[0;31m \u001b[0;32mfrom\u001b[0m \u001b[0mtensorflow_addons\u001b[0m\u001b[0;34m.\u001b[0m\u001b[0mactivations\u001b[0m\u001b[0;34m.\u001b[0m\u001b[0mgelu\u001b[0m \u001b[0;32mimport\u001b[0m \u001b[0mgelu\u001b[0m\u001b[0;34m\u001b[0m\u001b[0;34m\u001b[0m\u001b[0m\n\u001b[0m\u001b[1;32m     18\u001b[0m \u001b[0;32mfrom\u001b[0m \u001b[0mtensorflow_addons\u001b[0m\u001b[0;34m.\u001b[0m\u001b[0mactivations\u001b[0m\u001b[0;34m.\u001b[0m\u001b[0mhardshrink\u001b[0m \u001b[0;32mimport\u001b[0m \u001b[0mhardshrink\u001b[0m\u001b[0;34m\u001b[0m\u001b[0;34m\u001b[0m\u001b[0m\n\u001b[1;32m     19\u001b[0m \u001b[0;32mfrom\u001b[0m \u001b[0mtensorflow_addons\u001b[0m\u001b[0;34m.\u001b[0m\u001b[0mactivations\u001b[0m\u001b[0;34m.\u001b[0m\u001b[0mlisht\u001b[0m \u001b[0;32mimport\u001b[0m \u001b[0mlisht\u001b[0m\u001b[0;34m\u001b[0m\u001b[0;34m\u001b[0m\u001b[0m\n",
            "\u001b[0;32m/usr/local/lib/python3.10/dist-packages/tensorflow_addons/activations/gelu.py\u001b[0m in \u001b[0;36m<module>\u001b[0;34m\u001b[0m\n\u001b[1;32m     17\u001b[0m \u001b[0;32mimport\u001b[0m \u001b[0mwarnings\u001b[0m\u001b[0;34m\u001b[0m\u001b[0;34m\u001b[0m\u001b[0m\n\u001b[1;32m     18\u001b[0m \u001b[0;34m\u001b[0m\u001b[0m\n\u001b[0;32m---> 19\u001b[0;31m \u001b[0;32mfrom\u001b[0m \u001b[0mtensorflow_addons\u001b[0m\u001b[0;34m.\u001b[0m\u001b[0mutils\u001b[0m\u001b[0;34m.\u001b[0m\u001b[0mtypes\u001b[0m \u001b[0;32mimport\u001b[0m \u001b[0mTensorLike\u001b[0m\u001b[0;34m\u001b[0m\u001b[0;34m\u001b[0m\u001b[0m\n\u001b[0m\u001b[1;32m     20\u001b[0m \u001b[0;34m\u001b[0m\u001b[0m\n\u001b[1;32m     21\u001b[0m \u001b[0;34m\u001b[0m\u001b[0m\n",
            "\u001b[0;32m/usr/local/lib/python3.10/dist-packages/tensorflow_addons/utils/types.py\u001b[0m in \u001b[0;36m<module>\u001b[0;34m\u001b[0m\n\u001b[1;32m     27\u001b[0m     \u001b[0;31m# New versions of Keras require importing from `keras.src` when\u001b[0m\u001b[0;34m\u001b[0m\u001b[0;34m\u001b[0m\u001b[0m\n\u001b[1;32m     28\u001b[0m     \u001b[0;31m# importing internal symbols.\u001b[0m\u001b[0;34m\u001b[0m\u001b[0;34m\u001b[0m\u001b[0m\n\u001b[0;32m---> 29\u001b[0;31m     \u001b[0;32mfrom\u001b[0m \u001b[0mkeras\u001b[0m\u001b[0;34m.\u001b[0m\u001b[0msrc\u001b[0m\u001b[0;34m.\u001b[0m\u001b[0mengine\u001b[0m \u001b[0;32mimport\u001b[0m \u001b[0mkeras_tensor\u001b[0m\u001b[0;34m\u001b[0m\u001b[0;34m\u001b[0m\u001b[0m\n\u001b[0m\u001b[1;32m     30\u001b[0m \u001b[0;32melif\u001b[0m \u001b[0mVersion\u001b[0m\u001b[0;34m(\u001b[0m\u001b[0mtf\u001b[0m\u001b[0;34m.\u001b[0m\u001b[0m__version__\u001b[0m\u001b[0;34m)\u001b[0m\u001b[0;34m.\u001b[0m\u001b[0mrelease\u001b[0m \u001b[0;34m>=\u001b[0m \u001b[0mVersion\u001b[0m\u001b[0;34m(\u001b[0m\u001b[0;34m\"2.5\"\u001b[0m\u001b[0;34m)\u001b[0m\u001b[0;34m.\u001b[0m\u001b[0mrelease\u001b[0m\u001b[0;34m:\u001b[0m\u001b[0;34m\u001b[0m\u001b[0;34m\u001b[0m\u001b[0m\n\u001b[1;32m     31\u001b[0m     \u001b[0;32mfrom\u001b[0m \u001b[0mkeras\u001b[0m\u001b[0;34m.\u001b[0m\u001b[0mengine\u001b[0m \u001b[0;32mimport\u001b[0m \u001b[0mkeras_tensor\u001b[0m\u001b[0;34m\u001b[0m\u001b[0;34m\u001b[0m\u001b[0m\n",
            "\u001b[0;31mModuleNotFoundError\u001b[0m: No module named 'keras.src.engine'",
            "",
            "\u001b[0;31m---------------------------------------------------------------------------\u001b[0;32m\nNOTE: If your import is failing due to a missing package, you can\nmanually install dependencies using either !pip or !apt.\n\nTo view examples of installing some common dependencies, click the\n\"Open Examples\" button below.\n\u001b[0;31m---------------------------------------------------------------------------\u001b[0m\n"
          ],
          "errorDetails": {
            "actions": [
              {
                "action": "open_url",
                "actionText": "Open Examples",
                "url": "/notebooks/snippets/importing_libraries.ipynb"
              }
            ]
          }
        }
      ]
    },
    {
      "cell_type": "code",
      "source": [
        "from tensorflow.keras.models import Sequential, Model\n",
        "from tensorflow.keras.layers import Dense, Input\n",
        "from tensorflow.keras.optimizers import Adam, RMSprop\n",
        "from keras.wrappers.scikit_learn import KerasRegressor\n",
        "from tensorflow.keras import regularizers\n",
        "import tensorflow_addons as tfa"
      ],
      "metadata": {
        "colab": {
          "base_uri": "https://localhost:8080/",
          "height": 383
        },
        "id": "O3KBm54slqzS",
        "outputId": "672ee1b3-27ab-4d56-b6b0-477a0598e320"
      },
      "execution_count": null,
      "outputs": [
        {
          "output_type": "error",
          "ename": "ModuleNotFoundError",
          "evalue": "No module named 'keras.wrappers'",
          "traceback": [
            "\u001b[0;31m---------------------------------------------------------------------------\u001b[0m",
            "\u001b[0;31mModuleNotFoundError\u001b[0m                       Traceback (most recent call last)",
            "\u001b[0;32m<ipython-input-12-6d9b4f4e81bc>\u001b[0m in \u001b[0;36m<cell line: 4>\u001b[0;34m()\u001b[0m\n\u001b[1;32m      2\u001b[0m \u001b[0;32mfrom\u001b[0m \u001b[0mtensorflow\u001b[0m\u001b[0;34m.\u001b[0m\u001b[0mkeras\u001b[0m\u001b[0;34m.\u001b[0m\u001b[0mlayers\u001b[0m \u001b[0;32mimport\u001b[0m \u001b[0mDense\u001b[0m\u001b[0;34m,\u001b[0m \u001b[0mInput\u001b[0m\u001b[0;34m\u001b[0m\u001b[0;34m\u001b[0m\u001b[0m\n\u001b[1;32m      3\u001b[0m \u001b[0;32mfrom\u001b[0m \u001b[0mtensorflow\u001b[0m\u001b[0;34m.\u001b[0m\u001b[0mkeras\u001b[0m\u001b[0;34m.\u001b[0m\u001b[0moptimizers\u001b[0m \u001b[0;32mimport\u001b[0m \u001b[0mAdam\u001b[0m\u001b[0;34m,\u001b[0m \u001b[0mRMSprop\u001b[0m\u001b[0;34m\u001b[0m\u001b[0;34m\u001b[0m\u001b[0m\n\u001b[0;32m----> 4\u001b[0;31m \u001b[0;32mfrom\u001b[0m \u001b[0mkeras\u001b[0m\u001b[0;34m.\u001b[0m\u001b[0mwrappers\u001b[0m\u001b[0;34m.\u001b[0m\u001b[0mscikit_learn\u001b[0m \u001b[0;32mimport\u001b[0m \u001b[0mKerasRegressor\u001b[0m\u001b[0;34m\u001b[0m\u001b[0;34m\u001b[0m\u001b[0m\n\u001b[0m\u001b[1;32m      5\u001b[0m \u001b[0;32mfrom\u001b[0m \u001b[0mtensorflow\u001b[0m\u001b[0;34m.\u001b[0m\u001b[0mkeras\u001b[0m \u001b[0;32mimport\u001b[0m \u001b[0mregularizers\u001b[0m\u001b[0;34m\u001b[0m\u001b[0;34m\u001b[0m\u001b[0m\n\u001b[1;32m      6\u001b[0m \u001b[0;32mimport\u001b[0m \u001b[0mtensorflow_addons\u001b[0m \u001b[0;32mas\u001b[0m \u001b[0mtfa\u001b[0m\u001b[0;34m\u001b[0m\u001b[0;34m\u001b[0m\u001b[0m\n",
            "\u001b[0;31mModuleNotFoundError\u001b[0m: No module named 'keras.wrappers'",
            "",
            "\u001b[0;31m---------------------------------------------------------------------------\u001b[0;32m\nNOTE: If your import is failing due to a missing package, you can\nmanually install dependencies using either !pip or !apt.\n\nTo view examples of installing some common dependencies, click the\n\"Open Examples\" button below.\n\u001b[0;31m---------------------------------------------------------------------------\u001b[0m\n"
          ],
          "errorDetails": {
            "actions": [
              {
                "action": "open_url",
                "actionText": "Open Examples",
                "url": "/notebooks/snippets/importing_libraries.ipynb"
              }
            ]
          }
        }
      ]
    }
  ]
}